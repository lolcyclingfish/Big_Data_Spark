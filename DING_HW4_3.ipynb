{
 "cells": [
  {
   "cell_type": "markdown",
   "metadata": {},
   "source": [
    "# Violent and non-violent crime prediciton for Chicago beats for next week\n",
    "\n",
    "Plan:\n",
    "1. EDA and feature engineering and extraction\n",
    "2. recent data is usually more predictive then aged data, tentatively limit the data from past 3 years 2012 - 2015\n",
    "3. join table with SP500 daily price table from 2012 - present by date\n",
    "4. features to extract:\n",
    "   - year, month, week of the year\n",
    "   - beat number \n",
    "   - num of Arrest, num of Domestic\n",
    "   - IUCR\n",
    "   - Primary Type_violent, Primary Type_nonviolent (split Primary Type into two groups for violent and nonviolent crime)\n",
    "   - average weekly SP500 price\n",
    "5. split extracted fields into two subset RDD by primary type - violentRDD, nonviolentRDD\n",
    "6. prepare data parallelly for two RDDs and enter random forest regressor in MLlib\n",
    "7. eveluate model performance by calculating mean square error on testdata for both violent and nonviolent models\n",
    "8. make prediction for next week's violent and nonviolent crime using new data\n",
    "   \n",
    "   \n",
    "ref: \n",
    "http://pbpython.com/categorical-encoding.html\n",
    "https://pypi.python.org/pypi/geopy\n",
    "https://stackoverflow.com/questions/31257077/how-do-you-perform-basic-joins-of-two-rdd-tables-in-spark-using-python\n",
    "https://stackoverflow.com/questions/39699107/spark-rdd-to-dataframe-python\n",
    "https://sparkour.urizone.net/recipes/controlling-schema/#02\n",
    "https://github.com/jhlch/ds-for-telco/blob/master/ds-for-telco.ipynb"
   ]
  },
  {
   "cell_type": "code",
   "execution_count": 42,
   "metadata": {
    "collapsed": true
   },
   "outputs": [],
   "source": [
    "import matplotlib.pyplot as plt\n",
    "%matplotlib inline\n",
    "import pandas as pd\n",
    "import numpy as np\n",
    "import csv\n",
    "#from geopy.geocoders import Nominatim\n",
    "#geolocator = Nominatim()https://sparkour.urizone.net/recipes/controlling-schema/#02"
   ]
  },
  {
   "cell_type": "code",
   "execution_count": 1,
   "metadata": {
    "collapsed": false
   },
   "outputs": [],
   "source": [
    "from pyspark.sql.functions import *\n",
    "from pyspark.context import SparkContext \n",
    "from pyspark.sql import SQLContext\n",
    "from pyspark.sql.types import DoubleType\n",
    "from pyspark.sql.types import IntegerType\n",
    "from pyspark.sql.types import StringType\n",
    "from pyspark.sql.types import StructType\n",
    "from pyspark.sql.types import StructField\n",
    "import pyspark.rdd\n",
    "from datetime import datetime, date\n",
    "import re\n",
    "from pyspark.mllib.stat import Statistics\n",
    "from pyspark.mllib.linalg import Vectors\n",
    "from pyspark.mllib.regression import LabeledPoint, LinearRegressionWithSGD\n",
    "from pyspark.mllib.tree import RandomForest\n",
    "from pyspark.mllib.util import MLUtils\n",
    "\n",
    "\n",
    "sc = SparkContext.getOrCreate()"
   ]
  },
  {
   "cell_type": "code",
   "execution_count": 250,
   "metadata": {
    "collapsed": true
   },
   "outputs": [],
   "source": [
    "#use when done with current pyspark context\n",
    "sc.stop()"
   ]
  },
  {
   "cell_type": "code",
   "execution_count": 2,
   "metadata": {
    "collapsed": true
   },
   "outputs": [],
   "source": [
    "sqlContext = SQLContext(sc)\n",
    "#sc.setLogLevel(\"ERROR\")"
   ]
  },
  {
   "cell_type": "code",
   "execution_count": 3,
   "metadata": {
    "collapsed": false
   },
   "outputs": [
    {
     "name": "stdout",
     "output_type": "stream",
     "text": [
      "+--------+-----------+--------------------+--------------------+----+--------------------+--------------------+--------------------+------+--------+----+--------+----+--------------+--------+------------+------------+----+--------------------+------------+-------------+--------------------+\n",
      "|      ID|Case Number|                Date|               Block|IUCR|        Primary Type|         Description|Location Description|Arrest|Domestic|Beat|District|Ward|Community Area|FBI Code|X Coordinate|Y Coordinate|Year|          Updated On|    Latitude|    Longitude|            Location|\n",
      "+--------+-----------+--------------------+--------------------+----+--------------------+--------------------+--------------------+------+--------+----+--------+----+--------------+--------+------------+------------+----+--------------------+------------+-------------+--------------------+\n",
      "|10078659|   HY267429|05/19/2015 11:57:...|     010XX E 79TH ST|143A|   WEAPONS VIOLATION|UNLAWFUL POSS OF ...|              STREET|  true|   false| 624|       6|   8|            44|      15|     1184626|     1852799|2015|05/26/2015 12:42:...|41.751242944|-87.599004724|(41.751242944, -8...|\n",
      "|10078598|   HY267408|05/19/2015 11:50:...| 067XX N SHERIDAN RD|3731|INTERFERENCE WITH...|OBSTRUCTING IDENT...|              STREET|  true|   false|2432|      24|  49|             1|      24|     1167071|     1944859|2015|05/26/2015 12:42:...|42.004255918|-87.660691083|(42.004255918, -8...|\n",
      "|10078625|   HY267417|05/19/2015 11:47:...|     026XX E 77TH ST|2170|           NARCOTICS|POSSESSION OF DRU...|              STREET|  true|   false| 421|       4|   7|            43|      18|     1195299|     1854463|2015|05/26/2015 12:42:...|41.755552462|-87.559839339|(41.755552462, -8...|\n",
      "|10078662|   HY267423|05/19/2015 11:46:...|     015XX E 62ND ST|051A|             ASSAULT| AGGRAVATED: HANDGUN|           APARTMENT| false|    true| 314|       3|   5|            42|     04A|     1187377|     1864316|2015|05/26/2015 12:42:...|41.782781732|-87.588558362|(41.782781732, -8...|\n",
      "|10078584|   HY267397|05/19/2015 11:45:...|054XX S PRINCETON...|4625|       OTHER OFFENSE|    PAROLE VIOLATION|         GAS STATION|  true|   false| 935|       9|   3|            37|      26|     1175180|     1868551|2015|05/26/2015 12:42:...|41.794684214|-87.633149481|(41.794684214, -8...|\n",
      "|10078629|   HY267393|05/19/2015 11:40:...|013XX S LAWNDALE AVE|0454|             BATTERY|AGG PO HANDS NO/M...|              STREET|  true|   false|1011|      10|  24|            29|     08B|     1151957|     1893696|2015|05/26/2015 12:42:...|41.864172884|-87.717647622|(41.864172884, -8...|\n",
      "|10079225|   HY267395|05/19/2015 11:30:...|   064XX S LAFLIN ST|0497|             BATTERY|AGGRAVATED DOMEST...|           APARTMENT| false|    true| 725|       7|  17|            67|     04B|     1167397|     1862229|2015|05/26/2015 12:42:...|41.777506284|-87.661870632|(41.777506284, -8...|\n",
      "|10078594|   HY267388|05/19/2015 11:30:...|   021XX W NORTH AVE|1305|     CRIMINAL DAMAGE| CRIMINAL DEFACEMENT|            SIDEWALK|  true|   false|1434|      14|  32|            24|      14|     1162022|     1910669|2015|05/26/2015 12:42:...|  41.9105442|-87.680225036|(41.9105442, -87....|\n",
      "|10080768|   HY269123|05/19/2015 11:30:...| 008XX N KILDARE AVE|0820|               THEFT|      $500 AND UNDER|           RESIDENCE| false|   false|1111|      11|  37|            23|      06|     1147592|     1905491|2015|05/26/2015 12:42:...|41.896624505|-87.733368852|(41.896624505, -8...|\n",
      "|10078618|   HY267392|05/19/2015 11:30:...|062XX S KOMENSKY AVE|0320|             ROBBERY|STRONGARM - NO WE...|            SIDEWALK| false|   false| 813|       8|  13|            65|      03|     1150396|     1863112|2015|05/26/2015 12:42:...|41.780276746|-87.724174049|(41.780276746, -8...|\n",
      "+--------+-----------+--------------------+--------------------+----+--------------------+--------------------+--------------------+------+--------+----+--------+----+--------------+--------+------------+------------+----+--------------------+------------+-------------+--------------------+\n",
      "only showing top 10 rows\n",
      "\n"
     ]
    }
   ],
   "source": [
    "crime = sqlContext.read.format('com.databricks.spark.csv').options(header='true', inferschema='true').load('Crimes_-_2001_to_present.csv')\n",
    "crime.show(3)"
   ]
  },
  {
   "cell_type": "code",
   "execution_count": 4,
   "metadata": {
    "collapsed": true
   },
   "outputs": [],
   "source": [
    "#create column month, day, year from column Date \n",
    "#substring(Column str, int pos, int len)\n",
    "crime=crime.withColumn(\"month\", substring(col(\"Date\"),1,2))\n",
    "crime=crime.withColumn(\"day\", substring(col(\"Date\"),4,2))"
   ]
  },
  {
   "cell_type": "code",
   "execution_count": 6,
   "metadata": {
    "collapsed": true
   },
   "outputs": [
    {
     "name": "stdout",
     "output_type": "stream",
     "text": [
      "+--------+-----------+--------------------+--------------------+----+--------------------+--------------------+--------------------+------+--------+----+--------+----+--------------+--------+------------+------------+----+--------------------+------------+-------------+--------------------+-----+---+\n",
      "|      ID|Case Number|                Date|               Block|IUCR|        Primary Type|         Description|Location Description|Arrest|Domestic|Beat|District|Ward|Community Area|FBI Code|X Coordinate|Y Coordinate|Year|          Updated On|    Latitude|    Longitude|            Location|month|day|\n",
      "+--------+-----------+--------------------+--------------------+----+--------------------+--------------------+--------------------+------+--------+----+--------+----+--------------+--------+------------+------------+----+--------------------+------------+-------------+--------------------+-----+---+\n",
      "|10078659|   HY267429|05/19/2015 11:57:...|     010XX E 79TH ST|143A|   WEAPONS VIOLATION|UNLAWFUL POSS OF ...|              STREET|  true|   false| 624|       6|   8|            44|      15|     1184626|     1852799|2015|05/26/2015 12:42:...|41.751242944|-87.599004724|(41.751242944, -8...|   05| 19|\n",
      "|10078598|   HY267408|05/19/2015 11:50:...| 067XX N SHERIDAN RD|3731|INTERFERENCE WITH...|OBSTRUCTING IDENT...|              STREET|  true|   false|2432|      24|  49|             1|      24|     1167071|     1944859|2015|05/26/2015 12:42:...|42.004255918|-87.660691083|(42.004255918, -8...|   05| 19|\n",
      "|10078625|   HY267417|05/19/2015 11:47:...|     026XX E 77TH ST|2170|           NARCOTICS|POSSESSION OF DRU...|              STREET|  true|   false| 421|       4|   7|            43|      18|     1195299|     1854463|2015|05/26/2015 12:42:...|41.755552462|-87.559839339|(41.755552462, -8...|   05| 19|\n",
      "|10078662|   HY267423|05/19/2015 11:46:...|     015XX E 62ND ST|051A|             ASSAULT| AGGRAVATED: HANDGUN|           APARTMENT| false|    true| 314|       3|   5|            42|     04A|     1187377|     1864316|2015|05/26/2015 12:42:...|41.782781732|-87.588558362|(41.782781732, -8...|   05| 19|\n",
      "|10078584|   HY267397|05/19/2015 11:45:...|054XX S PRINCETON...|4625|       OTHER OFFENSE|    PAROLE VIOLATION|         GAS STATION|  true|   false| 935|       9|   3|            37|      26|     1175180|     1868551|2015|05/26/2015 12:42:...|41.794684214|-87.633149481|(41.794684214, -8...|   05| 19|\n",
      "|10078629|   HY267393|05/19/2015 11:40:...|013XX S LAWNDALE AVE|0454|             BATTERY|AGG PO HANDS NO/M...|              STREET|  true|   false|1011|      10|  24|            29|     08B|     1151957|     1893696|2015|05/26/2015 12:42:...|41.864172884|-87.717647622|(41.864172884, -8...|   05| 19|\n",
      "|10079225|   HY267395|05/19/2015 11:30:...|   064XX S LAFLIN ST|0497|             BATTERY|AGGRAVATED DOMEST...|           APARTMENT| false|    true| 725|       7|  17|            67|     04B|     1167397|     1862229|2015|05/26/2015 12:42:...|41.777506284|-87.661870632|(41.777506284, -8...|   05| 19|\n",
      "|10078594|   HY267388|05/19/2015 11:30:...|   021XX W NORTH AVE|1305|     CRIMINAL DAMAGE| CRIMINAL DEFACEMENT|            SIDEWALK|  true|   false|1434|      14|  32|            24|      14|     1162022|     1910669|2015|05/26/2015 12:42:...|  41.9105442|-87.680225036|(41.9105442, -87....|   05| 19|\n",
      "|10080768|   HY269123|05/19/2015 11:30:...| 008XX N KILDARE AVE|0820|               THEFT|      $500 AND UNDER|           RESIDENCE| false|   false|1111|      11|  37|            23|      06|     1147592|     1905491|2015|05/26/2015 12:42:...|41.896624505|-87.733368852|(41.896624505, -8...|   05| 19|\n",
      "|10078618|   HY267392|05/19/2015 11:30:...|062XX S KOMENSKY AVE|0320|             ROBBERY|STRONGARM - NO WE...|            SIDEWALK| false|   false| 813|       8|  13|            65|      03|     1150396|     1863112|2015|05/26/2015 12:42:...|41.780276746|-87.724174049|(41.780276746, -8...|   05| 19|\n",
      "+--------+-----------+--------------------+--------------------+----+--------------------+--------------------+--------------------+------+--------+----+--------+----+--------------+--------+------------+------------+----+--------------------+------------+-------------+--------------------+-----+---+\n",
      "only showing top 10 rows\n",
      "\n"
     ]
    }
   ],
   "source": [
    "crime.show(3)"
   ]
  },
  {
   "cell_type": "code",
   "execution_count": 5,
   "metadata": {
    "collapsed": false
   },
   "outputs": [
    {
     "name": "stdout",
     "output_type": "stream",
     "text": [
      "+--------------------+-----------+-----------+-----------+-----------+-----------+----------+\n",
      "|                Date|       Open|       High|        Low|      Close|  Adj Close|    Volume|\n",
      "+--------------------+-----------+-----------+-----------+-----------+-----------+----------+\n",
      "|2001-01-02 00:00:...|1320.280029|1320.280029|1276.050049| 1283.27002| 1283.27002|1129400000|\n",
      "|2001-01-03 00:00:...| 1283.27002| 1347.76001|1274.619995|1347.560059|1347.560059|1880700000|\n",
      "|2001-01-04 00:00:...|1347.560059| 1350.23999|1329.140015|1333.339966|1333.339966|2131000000|\n",
      "+--------------------+-----------+-----------+-----------+-----------+-----------+----------+\n",
      "only showing top 3 rows\n",
      "\n"
     ]
    }
   ],
   "source": [
    "#read in SP500 2001 to 2015 daily price dataset:\n",
    "SP500 = sqlContext.read.format('com.databricks.spark.csv').options(header='true', inferschema='true').load('SP500_2001_2015.csv')\n",
    "SP500.show(3)"
   ]
  },
  {
   "cell_type": "code",
   "execution_count": 6,
   "metadata": {
    "collapsed": false
   },
   "outputs": [
    {
     "name": "stdout",
     "output_type": "stream",
     "text": [
      "+-----------+-----------+-----------+-----------+-----------+----------+----+-----+---+\n",
      "|       Open|       High|        Low|      Close|  Adj Close|    Volume|year|month|day|\n",
      "+-----------+-----------+-----------+-----------+-----------+----------+----+-----+---+\n",
      "|1320.280029|1320.280029|1276.050049| 1283.27002| 1283.27002|1129400000|2001|   01| 02|\n",
      "| 1283.27002| 1347.76001|1274.619995|1347.560059|1347.560059|1880700000|2001|   01| 03|\n",
      "|1347.560059| 1350.23999|1329.140015|1333.339966|1333.339966|2131000000|2001|   01| 04|\n",
      "+-----------+-----------+-----------+-----------+-----------+----------+----+-----+---+\n",
      "only showing top 3 rows\n",
      "\n"
     ]
    }
   ],
   "source": [
    "#create column month, day, year from column Date for table SP500\n",
    "SP500=SP500.withColumn(\"year\", substring(col(\"Date\"),1,4))\n",
    "SP500=SP500.withColumn(\"month\", substring(col(\"Date\"),6,2))\n",
    "SP500=SP500.withColumn(\"day\", substring(col(\"Date\"),9,2))\n",
    "SP500=SP500.drop(SP500.Date)\n",
    "SP500.show(3)"
   ]
  },
  {
   "cell_type": "code",
   "execution_count": 7,
   "metadata": {
    "collapsed": false,
    "scrolled": true
   },
   "outputs": [
    {
     "data": {
      "text/plain": [
       "[Row(ID=10078659, Case Number='HY267429', Date='05/19/2015 11:57:00 PM', Block='010XX E 79TH ST', IUCR='143A', Primary Type='WEAPONS VIOLATION', Description='UNLAWFUL POSS OF HANDGUN', Location Description='STREET', Arrest=True, Domestic=False, Beat=624, District=6, Ward=8, Community Area='44', FBI Code='15', X Coordinate=1184626, Y Coordinate=1852799, Year=2015, Updated On='05/26/2015 12:42:06 PM', Latitude=41.751242944, Longitude=-87.599004724, Location='(41.751242944, -87.599004724)', month='05', day='19', Open=2129.449951, High=2133.02002, Low=2124.5, Close=2127.830078, Adj Close=2127.830078, Volume=3296030000),\n",
       " Row(ID=10078598, Case Number='HY267408', Date='05/19/2015 11:50:00 PM', Block='067XX N SHERIDAN RD', IUCR='3731', Primary Type='INTERFERENCE WITH PUBLIC OFFICER', Description='OBSTRUCTING IDENTIFICATION', Location Description='STREET', Arrest=True, Domestic=False, Beat=2432, District=24, Ward=49, Community Area='1', FBI Code='24', X Coordinate=1167071, Y Coordinate=1944859, Year=2015, Updated On='05/26/2015 12:42:06 PM', Latitude=42.004255918, Longitude=-87.660691083, Location='(42.004255918, -87.660691083)', month='05', day='19', Open=2129.449951, High=2133.02002, Low=2124.5, Close=2127.830078, Adj Close=2127.830078, Volume=3296030000),\n",
       " Row(ID=10078625, Case Number='HY267417', Date='05/19/2015 11:47:00 PM', Block='026XX E 77TH ST', IUCR='2170', Primary Type='NARCOTICS', Description='POSSESSION OF DRUG EQUIPMENT', Location Description='STREET', Arrest=True, Domestic=False, Beat=421, District=4, Ward=7, Community Area='43', FBI Code='18', X Coordinate=1195299, Y Coordinate=1854463, Year=2015, Updated On='05/26/2015 12:42:06 PM', Latitude=41.755552462, Longitude=-87.559839339, Location='(41.755552462, -87.559839339)', month='05', day='19', Open=2129.449951, High=2133.02002, Low=2124.5, Close=2127.830078, Adj Close=2127.830078, Volume=3296030000)]"
      ]
     },
     "execution_count": 7,
     "metadata": {},
     "output_type": "execute_result"
    }
   ],
   "source": [
    "#Inner join crime table with SP500 table by {year, month,day}\n",
    "joined=crime.join(SP500, (crime.Year == SP500.year) & (crime.month == SP500.month) & (crime.day == SP500.day)).drop(SP500.year).drop(SP500.month).drop(SP500.day)\n",
    "#sqlContext.sql('SELECT * FROM df1 JOIN df2 ON df1.k = df2.k')\n",
    "joined.take(3)"
   ]
  },
  {
   "cell_type": "code",
   "execution_count": 8,
   "metadata": {
    "collapsed": false
   },
   "outputs": [
    {
     "name": "stdout",
     "output_type": "stream",
     "text": [
      "+--------+-----------+--------------------+-------------------+----+--------------------+--------------------+--------------------+------+--------+----+--------+----+--------------+--------+------------+------------+----+--------------------+------------+-------------+--------------------+-----+---+-----------+----------+------+-----------+-----------+----------+------------------+----------+-----------+\n",
      "|      ID|Case Number|                Date|              Block|IUCR|        Primary Type|         Description|Location Description|Arrest|Domestic|Beat|District|Ward|Community Area|FBI Code|X Coordinate|Y Coordinate|Year|          Updated On|    Latitude|    Longitude|            Location|month|day|       Open|      High|   Low|      Close|  Adj Close|    Volume|       weekOfMonth|  trimDate|       time|\n",
      "+--------+-----------+--------------------+-------------------+----+--------------------+--------------------+--------------------+------+--------+----+--------+----+--------------+--------+------------+------------+----+--------------------+------------+-------------+--------------------+-----+---+-----------+----------+------+-----------+-----------+----------+------------------+----------+-----------+\n",
      "|10078659|   HY267429|05/19/2015 11:57:...|    010XX E 79TH ST|143A|   WEAPONS VIOLATION|UNLAWFUL POSS OF ...|              STREET|  true|   false| 624|       6|   8|            44|      15|     1184626|     1852799|2015|05/26/2015 12:42:...|41.751242944|-87.599004724|(41.751242944, -8...|   05| 19|2129.449951|2133.02002|2124.5|2127.830078|2127.830078|3296030000|2.7142857142857144|05/19/2015|11:57:00 PM|\n",
      "|10078598|   HY267408|05/19/2015 11:50:...|067XX N SHERIDAN RD|3731|INTERFERENCE WITH...|OBSTRUCTING IDENT...|              STREET|  true|   false|2432|      24|  49|             1|      24|     1167071|     1944859|2015|05/26/2015 12:42:...|42.004255918|-87.660691083|(42.004255918, -8...|   05| 19|2129.449951|2133.02002|2124.5|2127.830078|2127.830078|3296030000|2.7142857142857144|05/19/2015|11:50:00 PM|\n",
      "|10078625|   HY267417|05/19/2015 11:47:...|    026XX E 77TH ST|2170|           NARCOTICS|POSSESSION OF DRU...|              STREET|  true|   false| 421|       4|   7|            43|      18|     1195299|     1854463|2015|05/26/2015 12:42:...|41.755552462|-87.559839339|(41.755552462, -8...|   05| 19|2129.449951|2133.02002|2124.5|2127.830078|2127.830078|3296030000|2.7142857142857144|05/19/2015|11:47:00 PM|\n",
      "+--------+-----------+--------------------+-------------------+----+--------------------+--------------------+--------------------+------+--------+----+--------+----+--------------+--------+------------+------------+----+--------------------+------------+-------------+--------------------+-----+---+-----------+----------+------+-----------+-----------+----------+------------------+----------+-----------+\n",
      "only showing top 3 rows\n",
      "\n"
     ]
    }
   ],
   "source": [
    "#feature creation 1: week of the month\n",
    "joined=joined.withColumn(\"weekOfMonth\", col(\"day\").cast(IntegerType())/7)\n",
    "#feature creation 2: shortdate, time\n",
    "joined=joined.withColumn(\"trimDate\", substring(col(\"Date\"),1,10))\n",
    "joined=joined.withColumn(\"time\", substring(col(\"Date\"),12,11))\n",
    "joined.show(3)\n",
    "#type(joined)"
   ]
  },
  {
   "cell_type": "code",
   "execution_count": 9,
   "metadata": {
    "collapsed": false,
    "scrolled": true
   },
   "outputs": [
    {
     "data": {
      "text/plain": [
       "[[10078659,\n",
       "  'HY267429',\n",
       "  '05/19/2015 11:57:00 PM',\n",
       "  '010XX E 79TH ST',\n",
       "  '143A',\n",
       "  'WEAPONS VIOLATION',\n",
       "  'UNLAWFUL POSS OF HANDGUN',\n",
       "  'STREET',\n",
       "  True,\n",
       "  False,\n",
       "  624,\n",
       "  6,\n",
       "  8,\n",
       "  '44',\n",
       "  '15',\n",
       "  1184626,\n",
       "  1852799,\n",
       "  2015,\n",
       "  '05/26/2015 12:42:06 PM',\n",
       "  41.751242944,\n",
       "  -87.599004724,\n",
       "  '(41.751242944, -87.599004724)',\n",
       "  '05',\n",
       "  '19',\n",
       "  2129.449951,\n",
       "  2133.02002,\n",
       "  2124.5,\n",
       "  2127.830078,\n",
       "  2127.830078,\n",
       "  3296030000,\n",
       "  2.7142857142857144,\n",
       "  '05/19/2015',\n",
       "  '11:57:00 PM'],\n",
       " [10078598,\n",
       "  'HY267408',\n",
       "  '05/19/2015 11:50:00 PM',\n",
       "  '067XX N SHERIDAN RD',\n",
       "  '3731',\n",
       "  'INTERFERENCE WITH PUBLIC OFFICER',\n",
       "  'OBSTRUCTING IDENTIFICATION',\n",
       "  'STREET',\n",
       "  True,\n",
       "  False,\n",
       "  2432,\n",
       "  24,\n",
       "  49,\n",
       "  '1',\n",
       "  '24',\n",
       "  1167071,\n",
       "  1944859,\n",
       "  2015,\n",
       "  '05/26/2015 12:42:06 PM',\n",
       "  42.004255918,\n",
       "  -87.660691083,\n",
       "  '(42.004255918, -87.660691083)',\n",
       "  '05',\n",
       "  '19',\n",
       "  2129.449951,\n",
       "  2133.02002,\n",
       "  2124.5,\n",
       "  2127.830078,\n",
       "  2127.830078,\n",
       "  3296030000,\n",
       "  2.7142857142857144,\n",
       "  '05/19/2015',\n",
       "  '11:50:00 PM'],\n",
       " [10078625,\n",
       "  'HY267417',\n",
       "  '05/19/2015 11:47:00 PM',\n",
       "  '026XX E 77TH ST',\n",
       "  '2170',\n",
       "  'NARCOTICS',\n",
       "  'POSSESSION OF DRUG EQUIPMENT',\n",
       "  'STREET',\n",
       "  True,\n",
       "  False,\n",
       "  421,\n",
       "  4,\n",
       "  7,\n",
       "  '43',\n",
       "  '18',\n",
       "  1195299,\n",
       "  1854463,\n",
       "  2015,\n",
       "  '05/26/2015 12:42:06 PM',\n",
       "  41.755552462,\n",
       "  -87.559839339,\n",
       "  '(41.755552462, -87.559839339)',\n",
       "  '05',\n",
       "  '19',\n",
       "  2129.449951,\n",
       "  2133.02002,\n",
       "  2124.5,\n",
       "  2127.830078,\n",
       "  2127.830078,\n",
       "  3296030000,\n",
       "  2.7142857142857144,\n",
       "  '05/19/2015',\n",
       "  '11:47:00 PM']]"
      ]
     },
     "execution_count": 9,
     "metadata": {},
     "output_type": "execute_result"
    }
   ],
   "source": [
    "#convert spark joined dataframe back to RDD\n",
    "rdd = joined.rdd.map(list)\n",
    "rdd.take(3)"
   ]
  },
  {
   "cell_type": "code",
   "execution_count": 10,
   "metadata": {
    "collapsed": false,
    "scrolled": true
   },
   "outputs": [
    {
     "data": {
      "text/plain": [
       "[[10078659,\n",
       "  'HY267429',\n",
       "  '05/19/2015 11:57:00 PM',\n",
       "  '010XX E 79TH ST',\n",
       "  '143A',\n",
       "  'WEAPONS VIOLATION',\n",
       "  'UNLAWFUL POSS OF HANDGUN',\n",
       "  'STREET',\n",
       "  True,\n",
       "  False,\n",
       "  624,\n",
       "  6,\n",
       "  8,\n",
       "  '44',\n",
       "  '15',\n",
       "  1184626,\n",
       "  1852799,\n",
       "  2015,\n",
       "  '05/26/2015 12:42:06 PM',\n",
       "  41.751242944,\n",
       "  -87.599004724,\n",
       "  '(41.751242944, -87.599004724)',\n",
       "  '05',\n",
       "  '19',\n",
       "  2129.449951,\n",
       "  2133.02002,\n",
       "  2124.5,\n",
       "  2127.830078,\n",
       "  2127.830078,\n",
       "  3296030000,\n",
       "  2.7142857142857144,\n",
       "  '05/19/2015',\n",
       "  '11:57:00 PM'],\n",
       " [10078598,\n",
       "  'HY267408',\n",
       "  '05/19/2015 11:50:00 PM',\n",
       "  '067XX N SHERIDAN RD',\n",
       "  '3731',\n",
       "  'INTERFERENCE WITH PUBLIC OFFICER',\n",
       "  'OBSTRUCTING IDENTIFICATION',\n",
       "  'STREET',\n",
       "  True,\n",
       "  False,\n",
       "  2432,\n",
       "  24,\n",
       "  49,\n",
       "  '1',\n",
       "  '24',\n",
       "  1167071,\n",
       "  1944859,\n",
       "  2015,\n",
       "  '05/26/2015 12:42:06 PM',\n",
       "  42.004255918,\n",
       "  -87.660691083,\n",
       "  '(42.004255918, -87.660691083)',\n",
       "  '05',\n",
       "  '19',\n",
       "  2129.449951,\n",
       "  2133.02002,\n",
       "  2124.5,\n",
       "  2127.830078,\n",
       "  2127.830078,\n",
       "  3296030000,\n",
       "  2.7142857142857144,\n",
       "  '05/19/2015',\n",
       "  '11:50:00 PM'],\n",
       " [10078625,\n",
       "  'HY267417',\n",
       "  '05/19/2015 11:47:00 PM',\n",
       "  '026XX E 77TH ST',\n",
       "  '2170',\n",
       "  'NARCOTICS',\n",
       "  'POSSESSION OF DRUG EQUIPMENT',\n",
       "  'STREET',\n",
       "  True,\n",
       "  False,\n",
       "  421,\n",
       "  4,\n",
       "  7,\n",
       "  '43',\n",
       "  '18',\n",
       "  1195299,\n",
       "  1854463,\n",
       "  2015,\n",
       "  '05/26/2015 12:42:06 PM',\n",
       "  41.755552462,\n",
       "  -87.559839339,\n",
       "  '(41.755552462, -87.559839339)',\n",
       "  '05',\n",
       "  '19',\n",
       "  2129.449951,\n",
       "  2133.02002,\n",
       "  2124.5,\n",
       "  2127.830078,\n",
       "  2127.830078,\n",
       "  3296030000,\n",
       "  2.7142857142857144,\n",
       "  '05/19/2015',\n",
       "  '11:47:00 PM']]"
      ]
     },
     "execution_count": 10,
     "metadata": {},
     "output_type": "execute_result"
    }
   ],
   "source": [
    "#filter and subset to get data in recent 3 years 2013-2015\n",
    "rdd =rdd.filter(lambda x: int(x[17]) >=2013)\n",
    "rdd.take(3)"
   ]
  },
  {
   "cell_type": "code",
   "execution_count": 11,
   "metadata": {
    "collapsed": false,
    "scrolled": true
   },
   "outputs": [
    {
     "data": {
      "text/plain": [
       "[[10078659,\n",
       "  'HY267429',\n",
       "  '05/19/2015 11:57:00 PM',\n",
       "  '010XX E 79TH ST',\n",
       "  '143A',\n",
       "  'WEAPONS VIOLATION',\n",
       "  'UNLAWFUL POSS OF HANDGUN',\n",
       "  'STREET',\n",
       "  True,\n",
       "  False,\n",
       "  624,\n",
       "  6,\n",
       "  8,\n",
       "  '44',\n",
       "  '15',\n",
       "  1184626,\n",
       "  1852799,\n",
       "  2015,\n",
       "  '05/26/2015 12:42:06 PM',\n",
       "  41.751242944,\n",
       "  -87.599004724,\n",
       "  '(41.751242944, -87.599004724)',\n",
       "  '05',\n",
       "  '19',\n",
       "  2129.449951,\n",
       "  2133.02002,\n",
       "  2124.5,\n",
       "  2127.830078,\n",
       "  2127.830078,\n",
       "  3296030000,\n",
       "  2.7142857142857144,\n",
       "  '05/19/2015',\n",
       "  '11:57:00 PM'],\n",
       " [10078598,\n",
       "  'HY267408',\n",
       "  '05/19/2015 11:50:00 PM',\n",
       "  '067XX N SHERIDAN RD',\n",
       "  '3731',\n",
       "  'INTERFERENCE WITH PUBLIC OFFICER',\n",
       "  'OBSTRUCTING IDENTIFICATION',\n",
       "  'STREET',\n",
       "  True,\n",
       "  False,\n",
       "  2432,\n",
       "  24,\n",
       "  49,\n",
       "  '1',\n",
       "  '24',\n",
       "  1167071,\n",
       "  1944859,\n",
       "  2015,\n",
       "  '05/26/2015 12:42:06 PM',\n",
       "  42.004255918,\n",
       "  -87.660691083,\n",
       "  '(42.004255918, -87.660691083)',\n",
       "  '05',\n",
       "  '19',\n",
       "  2129.449951,\n",
       "  2133.02002,\n",
       "  2124.5,\n",
       "  2127.830078,\n",
       "  2127.830078,\n",
       "  3296030000,\n",
       "  2.7142857142857144,\n",
       "  '05/19/2015',\n",
       "  '11:50:00 PM'],\n",
       " [10078625,\n",
       "  'HY267417',\n",
       "  '05/19/2015 11:47:00 PM',\n",
       "  '026XX E 77TH ST',\n",
       "  '2170',\n",
       "  'NARCOTICS',\n",
       "  'POSSESSION OF DRUG EQUIPMENT',\n",
       "  'STREET',\n",
       "  True,\n",
       "  False,\n",
       "  421,\n",
       "  4,\n",
       "  7,\n",
       "  '43',\n",
       "  '18',\n",
       "  1195299,\n",
       "  1854463,\n",
       "  2015,\n",
       "  '05/26/2015 12:42:06 PM',\n",
       "  41.755552462,\n",
       "  -87.559839339,\n",
       "  '(41.755552462, -87.559839339)',\n",
       "  '05',\n",
       "  '19',\n",
       "  2129.449951,\n",
       "  2133.02002,\n",
       "  2124.5,\n",
       "  2127.830078,\n",
       "  2127.830078,\n",
       "  3296030000,\n",
       "  2.7142857142857144,\n",
       "  '05/19/2015',\n",
       "  '11:47:00 PM']]"
      ]
     },
     "execution_count": 11,
     "metadata": {},
     "output_type": "execute_result"
    }
   ],
   "source": [
    "#use regular expression to filter and get rows with beat - 3-4 digits number\n",
    "rdd = rdd.filter( lambda x: int(x[10])>=100 and int(x[10])<=9999)\n",
    "rdd.take(3)"
   ]
  },
  {
   "cell_type": "code",
   "execution_count": 12,
   "metadata": {
    "collapsed": false
   },
   "outputs": [
    {
     "data": {
      "text/plain": [
       "[(10078659, 21), (10078598, 21), (10078625, 21)]"
      ]
     },
     "execution_count": 12,
     "metadata": {},
     "output_type": "execute_result"
    }
   ],
   "source": [
    "#create new feature week of the year from field 31 trimDate\n",
    "#https://stackoverflow.com/questions/2600775/how-to-get-week-number-in-python\n",
    "#(ID, weekOfYear)\n",
    "weekOfYear=rdd.map(lambda x: (x[0],datetime.strptime(x[2],'%m/%d/%Y %I:%M:%S %p').date().isocalendar()[1]))\n",
    "#weekOfYear=rdd.map(lambda x: (x[1],datetime.strptime(x[31],'%m/%d/%y').date().isocalendar()[1]))\n",
    "\n",
    "weekOfYear.take(3)"
   ]
  },
  {
   "cell_type": "code",
   "execution_count": 13,
   "metadata": {
    "collapsed": false,
    "scrolled": true
   },
   "outputs": [
    {
     "data": {
      "text/plain": [
       "[[10078662,\n",
       "  'HY267423',\n",
       "  '05/19/2015 11:46:00 PM',\n",
       "  '015XX E 62ND ST',\n",
       "  '051A',\n",
       "  'ASSAULT',\n",
       "  'AGGRAVATED: HANDGUN',\n",
       "  'APARTMENT',\n",
       "  False,\n",
       "  True,\n",
       "  314,\n",
       "  3,\n",
       "  5,\n",
       "  '42',\n",
       "  '04A',\n",
       "  1187377,\n",
       "  1864316,\n",
       "  2015,\n",
       "  '05/26/2015 12:42:06 PM',\n",
       "  41.782781732,\n",
       "  -87.588558362,\n",
       "  '(41.782781732, -87.588558362)',\n",
       "  '05',\n",
       "  '19',\n",
       "  2129.449951,\n",
       "  2133.02002,\n",
       "  2124.5,\n",
       "  2127.830078,\n",
       "  2127.830078,\n",
       "  3296030000,\n",
       "  2.7142857142857144,\n",
       "  '05/19/2015',\n",
       "  '11:46:00 PM'],\n",
       " [10078629,\n",
       "  'HY267393',\n",
       "  '05/19/2015 11:40:00 PM',\n",
       "  '013XX S LAWNDALE AVE',\n",
       "  '0454',\n",
       "  'BATTERY',\n",
       "  'AGG PO HANDS NO/MIN INJURY',\n",
       "  'STREET',\n",
       "  True,\n",
       "  False,\n",
       "  1011,\n",
       "  10,\n",
       "  24,\n",
       "  '29',\n",
       "  '08B',\n",
       "  1151957,\n",
       "  1893696,\n",
       "  2015,\n",
       "  '05/26/2015 12:42:06 PM',\n",
       "  41.864172884,\n",
       "  -87.717647622,\n",
       "  '(41.864172884, -87.717647622)',\n",
       "  '05',\n",
       "  '19',\n",
       "  2129.449951,\n",
       "  2133.02002,\n",
       "  2124.5,\n",
       "  2127.830078,\n",
       "  2127.830078,\n",
       "  3296030000,\n",
       "  2.7142857142857144,\n",
       "  '05/19/2015',\n",
       "  '11:40:00 PM'],\n",
       " [10079225,\n",
       "  'HY267395',\n",
       "  '05/19/2015 11:30:00 PM',\n",
       "  '064XX S LAFLIN ST',\n",
       "  '0497',\n",
       "  'BATTERY',\n",
       "  'AGGRAVATED DOMESTIC BATTERY: OTHER DANG WEAPON',\n",
       "  'APARTMENT',\n",
       "  False,\n",
       "  True,\n",
       "  725,\n",
       "  7,\n",
       "  17,\n",
       "  '67',\n",
       "  '04B',\n",
       "  1167397,\n",
       "  1862229,\n",
       "  2015,\n",
       "  '05/26/2015 12:42:06 PM',\n",
       "  41.777506284,\n",
       "  -87.661870632,\n",
       "  '(41.777506284, -87.661870632)',\n",
       "  '05',\n",
       "  '19',\n",
       "  2129.449951,\n",
       "  2133.02002,\n",
       "  2124.5,\n",
       "  2127.830078,\n",
       "  2127.830078,\n",
       "  3296030000,\n",
       "  2.7142857142857144,\n",
       "  '05/19/2015',\n",
       "  '11:30:00 PM'],\n",
       " [10078618,\n",
       "  'HY267392',\n",
       "  '05/19/2015 11:30:00 PM',\n",
       "  '062XX S KOMENSKY AVE',\n",
       "  '0320',\n",
       "  'ROBBERY',\n",
       "  'STRONGARM - NO WEAPON',\n",
       "  'SIDEWALK',\n",
       "  False,\n",
       "  False,\n",
       "  813,\n",
       "  8,\n",
       "  13,\n",
       "  '65',\n",
       "  '03',\n",
       "  1150396,\n",
       "  1863112,\n",
       "  2015,\n",
       "  '05/26/2015 12:42:06 PM',\n",
       "  41.780276746,\n",
       "  -87.724174049,\n",
       "  '(41.780276746, -87.724174049)',\n",
       "  '05',\n",
       "  '19',\n",
       "  2129.449951,\n",
       "  2133.02002,\n",
       "  2124.5,\n",
       "  2127.830078,\n",
       "  2127.830078,\n",
       "  3296030000,\n",
       "  2.7142857142857144,\n",
       "  '05/19/2015',\n",
       "  '11:30:00 PM'],\n",
       " [10078652,\n",
       "  'HY267402',\n",
       "  '05/19/2015 11:20:00 PM',\n",
       "  '073XX N SHERIDAN RD',\n",
       "  '0320',\n",
       "  'ROBBERY',\n",
       "  'STRONGARM - NO WEAPON',\n",
       "  'STREET',\n",
       "  False,\n",
       "  False,\n",
       "  2423,\n",
       "  24,\n",
       "  49,\n",
       "  '1',\n",
       "  '03',\n",
       "  1165934,\n",
       "  1948944,\n",
       "  2015,\n",
       "  '05/26/2015 12:42:06 PM',\n",
       "  42.015489661,\n",
       "  -87.66475673,\n",
       "  '(42.015489661, -87.66475673)',\n",
       "  '05',\n",
       "  '19',\n",
       "  2129.449951,\n",
       "  2133.02002,\n",
       "  2124.5,\n",
       "  2127.830078,\n",
       "  2127.830078,\n",
       "  3296030000,\n",
       "  2.7142857142857144,\n",
       "  '05/19/2015',\n",
       "  '11:20:00 PM']]"
      ]
     },
     "execution_count": 13,
     "metadata": {},
     "output_type": "execute_result"
    }
   ],
   "source": [
    "#split rdd3 into violent crime rdd, and non-violent crime rdd:\n",
    "#define violent crime to be Primary Type = \"Battery\", \"Assault\", \"BURGLARY\", \"Robbery\" and \"Homicide\"\n",
    "violentRDD = rdd.filter(lambda x: x[5] in ('ASSAULT', 'BATTERY','BURGLARY','ROBBERY','HOMICIDE'))\n",
    "violentRDD.take(5)"
   ]
  },
  {
   "cell_type": "code",
   "execution_count": 14,
   "metadata": {
    "collapsed": false,
    "scrolled": true
   },
   "outputs": [
    {
     "data": {
      "text/plain": [
       "[[10078659,\n",
       "  'HY267429',\n",
       "  '05/19/2015 11:57:00 PM',\n",
       "  '010XX E 79TH ST',\n",
       "  '143A',\n",
       "  'WEAPONS VIOLATION',\n",
       "  'UNLAWFUL POSS OF HANDGUN',\n",
       "  'STREET',\n",
       "  True,\n",
       "  False,\n",
       "  624,\n",
       "  6,\n",
       "  8,\n",
       "  '44',\n",
       "  '15',\n",
       "  1184626,\n",
       "  1852799,\n",
       "  2015,\n",
       "  '05/26/2015 12:42:06 PM',\n",
       "  41.751242944,\n",
       "  -87.599004724,\n",
       "  '(41.751242944, -87.599004724)',\n",
       "  '05',\n",
       "  '19',\n",
       "  2129.449951,\n",
       "  2133.02002,\n",
       "  2124.5,\n",
       "  2127.830078,\n",
       "  2127.830078,\n",
       "  3296030000,\n",
       "  2.7142857142857144,\n",
       "  '05/19/2015',\n",
       "  '11:57:00 PM'],\n",
       " [10078598,\n",
       "  'HY267408',\n",
       "  '05/19/2015 11:50:00 PM',\n",
       "  '067XX N SHERIDAN RD',\n",
       "  '3731',\n",
       "  'INTERFERENCE WITH PUBLIC OFFICER',\n",
       "  'OBSTRUCTING IDENTIFICATION',\n",
       "  'STREET',\n",
       "  True,\n",
       "  False,\n",
       "  2432,\n",
       "  24,\n",
       "  49,\n",
       "  '1',\n",
       "  '24',\n",
       "  1167071,\n",
       "  1944859,\n",
       "  2015,\n",
       "  '05/26/2015 12:42:06 PM',\n",
       "  42.004255918,\n",
       "  -87.660691083,\n",
       "  '(42.004255918, -87.660691083)',\n",
       "  '05',\n",
       "  '19',\n",
       "  2129.449951,\n",
       "  2133.02002,\n",
       "  2124.5,\n",
       "  2127.830078,\n",
       "  2127.830078,\n",
       "  3296030000,\n",
       "  2.7142857142857144,\n",
       "  '05/19/2015',\n",
       "  '11:50:00 PM'],\n",
       " [10078625,\n",
       "  'HY267417',\n",
       "  '05/19/2015 11:47:00 PM',\n",
       "  '026XX E 77TH ST',\n",
       "  '2170',\n",
       "  'NARCOTICS',\n",
       "  'POSSESSION OF DRUG EQUIPMENT',\n",
       "  'STREET',\n",
       "  True,\n",
       "  False,\n",
       "  421,\n",
       "  4,\n",
       "  7,\n",
       "  '43',\n",
       "  '18',\n",
       "  1195299,\n",
       "  1854463,\n",
       "  2015,\n",
       "  '05/26/2015 12:42:06 PM',\n",
       "  41.755552462,\n",
       "  -87.559839339,\n",
       "  '(41.755552462, -87.559839339)',\n",
       "  '05',\n",
       "  '19',\n",
       "  2129.449951,\n",
       "  2133.02002,\n",
       "  2124.5,\n",
       "  2127.830078,\n",
       "  2127.830078,\n",
       "  3296030000,\n",
       "  2.7142857142857144,\n",
       "  '05/19/2015',\n",
       "  '11:47:00 PM'],\n",
       " [10078584,\n",
       "  'HY267397',\n",
       "  '05/19/2015 11:45:00 PM',\n",
       "  '054XX S PRINCETON AVE',\n",
       "  '4625',\n",
       "  'OTHER OFFENSE',\n",
       "  'PAROLE VIOLATION',\n",
       "  'GAS STATION',\n",
       "  True,\n",
       "  False,\n",
       "  935,\n",
       "  9,\n",
       "  3,\n",
       "  '37',\n",
       "  '26',\n",
       "  1175180,\n",
       "  1868551,\n",
       "  2015,\n",
       "  '05/26/2015 12:42:06 PM',\n",
       "  41.794684214,\n",
       "  -87.633149481,\n",
       "  '(41.794684214, -87.633149481)',\n",
       "  '05',\n",
       "  '19',\n",
       "  2129.449951,\n",
       "  2133.02002,\n",
       "  2124.5,\n",
       "  2127.830078,\n",
       "  2127.830078,\n",
       "  3296030000,\n",
       "  2.7142857142857144,\n",
       "  '05/19/2015',\n",
       "  '11:45:00 PM'],\n",
       " [10078594,\n",
       "  'HY267388',\n",
       "  '05/19/2015 11:30:00 PM',\n",
       "  '021XX W NORTH AVE',\n",
       "  '1305',\n",
       "  'CRIMINAL DAMAGE',\n",
       "  'CRIMINAL DEFACEMENT',\n",
       "  'SIDEWALK',\n",
       "  True,\n",
       "  False,\n",
       "  1434,\n",
       "  14,\n",
       "  32,\n",
       "  '24',\n",
       "  '14',\n",
       "  1162022,\n",
       "  1910669,\n",
       "  2015,\n",
       "  '05/26/2015 12:42:06 PM',\n",
       "  41.9105442,\n",
       "  -87.680225036,\n",
       "  '(41.9105442, -87.680225036)',\n",
       "  '05',\n",
       "  '19',\n",
       "  2129.449951,\n",
       "  2133.02002,\n",
       "  2124.5,\n",
       "  2127.830078,\n",
       "  2127.830078,\n",
       "  3296030000,\n",
       "  2.7142857142857144,\n",
       "  '05/19/2015',\n",
       "  '11:30:00 PM']]"
      ]
     },
     "execution_count": 14,
     "metadata": {},
     "output_type": "execute_result"
    }
   ],
   "source": [
    "nonviolentRDD=rdd.filter(lambda x: x[5] not in ('ASSAULT', 'BATTERY','BURGLARY','ROBBERY','HOMICIDE'))\n",
    "nonviolentRDD.take(5)"
   ]
  },
  {
   "cell_type": "markdown",
   "metadata": {},
   "source": [
    "# Weekly Violent Crime Prediction for Chicago Beats in the past three years "
   ]
  },
  {
   "cell_type": "code",
   "execution_count": 16,
   "metadata": {
    "collapsed": false,
    "scrolled": true
   },
   "outputs": [
    {
     "data": {
      "text/plain": [
       "[(10078662,\n",
       "  ('HY267423',\n",
       "   '05/19/2015 11:46:00 PM',\n",
       "   '051A',\n",
       "   'ASSAULT',\n",
       "   False,\n",
       "   True,\n",
       "   314,\n",
       "   2015,\n",
       "   2127.830078)),\n",
       " (10078629,\n",
       "  ('HY267393',\n",
       "   '05/19/2015 11:40:00 PM',\n",
       "   '0454',\n",
       "   'BATTERY',\n",
       "   True,\n",
       "   False,\n",
       "   1011,\n",
       "   2015,\n",
       "   2127.830078)),\n",
       " (10079225,\n",
       "  ('HY267395',\n",
       "   '05/19/2015 11:30:00 PM',\n",
       "   '0497',\n",
       "   'BATTERY',\n",
       "   False,\n",
       "   True,\n",
       "   725,\n",
       "   2015,\n",
       "   2127.830078)),\n",
       " (10078618,\n",
       "  ('HY267392',\n",
       "   '05/19/2015 11:30:00 PM',\n",
       "   '0320',\n",
       "   'ROBBERY',\n",
       "   False,\n",
       "   False,\n",
       "   813,\n",
       "   2015,\n",
       "   2127.830078)),\n",
       " (10078652,\n",
       "  ('HY267402',\n",
       "   '05/19/2015 11:20:00 PM',\n",
       "   '0320',\n",
       "   'ROBBERY',\n",
       "   False,\n",
       "   False,\n",
       "   2423,\n",
       "   2015,\n",
       "   2127.830078))]"
      ]
     },
     "execution_count": 16,
     "metadata": {},
     "output_type": "execute_result"
    }
   ],
   "source": [
    "#select useful features in violentRDD: ID|Case Number|Date|IUCR|Primary Type|Arrest|Domestic|Beat|Year|adj close\n",
    "violentRDD2=violentRDD.map(lambda x: (x[0],(x[1],x[2],x[4],x[5],x[8],x[9],x[10],x[17],x[28])))\n",
    "violentRDD2.take(5)"
   ]
  },
  {
   "cell_type": "code",
   "execution_count": 18,
   "metadata": {
    "collapsed": false,
    "scrolled": true
   },
   "outputs": [
    {
     "data": {
      "text/plain": [
       "[(9775788,\n",
       "  (('HX425435',\n",
       "    '09/12/2014 10:50:00 AM',\n",
       "    '0486',\n",
       "    'BATTERY',\n",
       "    False,\n",
       "    True,\n",
       "    222,\n",
       "    2014,\n",
       "    1985.540039),\n",
       "   37)),\n",
       " (10059786,\n",
       "  (('HY248556',\n",
       "    '05/04/2015 01:30:00 PM',\n",
       "    '0460',\n",
       "    'BATTERY',\n",
       "    False,\n",
       "    False,\n",
       "    1021,\n",
       "    2015,\n",
       "    2114.48999),\n",
       "   19)),\n",
       " (9895952,\n",
       "  (('HX546318',\n",
       "    '12/17/2014 10:40:00 PM',\n",
       "    '0460',\n",
       "    'BATTERY',\n",
       "    True,\n",
       "    False,\n",
       "    2023,\n",
       "    2014,\n",
       "    2012.890015),\n",
       "   51)),\n",
       " (9601042,\n",
       "  (('HX251469',\n",
       "    '05/06/2014 07:40:00 PM',\n",
       "    '0460',\n",
       "    'BATTERY',\n",
       "    False,\n",
       "    False,\n",
       "    1034,\n",
       "    2014,\n",
       "    1867.719971),\n",
       "   19)),\n",
       " (9207836,\n",
       "  (('HW353936',\n",
       "    '07/08/2013 08:08:00 PM',\n",
       "    '0486',\n",
       "    'BATTERY',\n",
       "    True,\n",
       "    False,\n",
       "    831,\n",
       "    2013,\n",
       "    1640.459961),\n",
       "   28))]"
      ]
     },
     "execution_count": 18,
     "metadata": {},
     "output_type": "execute_result"
    }
   ],
   "source": [
    "#joined weekOfYear back to violentRDD2:\n",
    "violentRDD3=violentRDD2.join(weekOfYear)\n",
    "violentRDD3.take(5)"
   ]
  },
  {
   "cell_type": "code",
   "execution_count": 19,
   "metadata": {
    "collapsed": false
   },
   "outputs": [
    {
     "data": {
      "text/plain": [
       "[((2431, 2013, 7), 5), ((1234, 2014, 25), 4), ((1911, 2013, 9), 5)]"
      ]
     },
     "execution_count": 19,
     "metadata": {},
     "output_type": "execute_result"
    }
   ],
   "source": [
    "#calculate number of crimes by (beat, year, weekOfYear) as response variable\n",
    "pairs=violentRDD3.map(lambda x: ((x[1][0][6],x[1][0][7],x[1][1]),1))\n",
    "#pairs.take(3)\n",
    "counts=pairs.reduceByKey(lambda x,y: int(x)+int(y))\n",
    "counts.take(3)"
   ]
  },
  {
   "cell_type": "code",
   "execution_count": 20,
   "metadata": {
    "collapsed": false
   },
   "outputs": [
    {
     "data": {
      "text/plain": [
       "[((715, 2013, 17), 1), ((2431, 2013, 7), 2), ((124, 2013, 24), 1)]"
      ]
     },
     "execution_count": 20,
     "metadata": {},
     "output_type": "execute_result"
    }
   ],
   "source": [
    "#calculate number of arrest by (beat,year, weekOfYear) as predictor\n",
    "pairs2 = violentRDD3.filter(lambda x: x[1][0][4]==True).map(lambda x:((x[1][0][6],x[1][0][7],x[1][1]),1))\n",
    "#pairs2.take(3)\n",
    "counts2=pairs2.reduceByKey(lambda x,y: int(x)+int(y))\n",
    "counts2.take(3)"
   ]
  },
  {
   "cell_type": "code",
   "execution_count": 21,
   "metadata": {
    "collapsed": false
   },
   "outputs": [
    {
     "data": {
      "text/plain": [
       "[((715, 2013, 17), 1), ((2431, 2013, 7), 2), ((1613, 2014, 38), 1)]"
      ]
     },
     "execution_count": 21,
     "metadata": {},
     "output_type": "execute_result"
    }
   ],
   "source": [
    "#calculate number of domestic by (beat,year, weekOfYear) as predictor\n",
    "pairs3 = violentRDD3.filter(lambda x: x[1][0][5]==True).map(lambda x:((x[1][0][6],x[1][0][7],x[1][1]),1))\n",
    "#pairs3.take(3)\n",
    "counts3=pairs3.reduceByKey(lambda x,y: int(x)+int(y))\n",
    "counts3.take(3)"
   ]
  },
  {
   "cell_type": "code",
   "execution_count": 22,
   "metadata": {
    "collapsed": false
   },
   "outputs": [
    {
     "data": {
      "text/plain": [
       "[((2013, 33), 1676.6430107526883),\n",
       " ((2014, 28), 1968.7817294281729),\n",
       " ((2014, 10), 1869.6590229312064)]"
      ]
     },
     "execution_count": 22,
     "metadata": {},
     "output_type": "execute_result"
    }
   ],
   "source": [
    "#calculate average adj close SP500 by (year, weekOfYear)\n",
    "#calculate counts\n",
    "pairs4=violentRDD3.map(lambda x: ((x[1][0][7],x[1][1]),1))\n",
    "#pairs.take(3)\n",
    "counts4=pairs4.reduceByKey(lambda x,y: int(x)+int(y))\n",
    "#counts4.take(3)\n",
    "\n",
    "#calculate sum\n",
    "pairs4_2 =violentRDD3.map(lambda x: ((x[1][0][7],x[1][1]),x[1][0][8]))\n",
    "#pairs4_2.take(3)\n",
    "sum=pairs4_2.reduceByKey(lambda x,y: int(x)+int(y))\n",
    "#sum.take(3)\n",
    "\n",
    "#[(year, weekOfYear),weeklyAvePrice]\n",
    "weeklyjoin=sum.join(counts4)\n",
    "#weeklyjoin.take(3)\n",
    "weeklyAvePrice=weeklyjoin.map(lambda x: (x[0],x[1][0]/x[1][1]))\n",
    "weeklyAvePrice.take(3)\n",
    "#weeklyAvePrice.count() #125"
   ]
  },
  {
   "cell_type": "code",
   "execution_count": 23,
   "metadata": {
    "collapsed": false
   },
   "outputs": [
    {
     "data": {
      "text/plain": [
       "[((715, 2013, 17), ((3, 1), 1)),\n",
       " ((2431, 2013, 7), ((5, 2), 2)),\n",
       " ((2522, 2014, 49), ((4, 1), 1))]"
      ]
     },
     "execution_count": 23,
     "metadata": {},
     "output_type": "execute_result"
    }
   ],
   "source": [
    "#joined all the features into one rdd: [(beat,year,weekOfYear), num of crime, num of arrest, num of domestic]\n",
    "featuresRDD=counts.join(counts2).join(counts3)\n",
    "featuresRDD.take(3)"
   ]
  },
  {
   "cell_type": "code",
   "execution_count": 24,
   "metadata": {
    "collapsed": false
   },
   "outputs": [
    {
     "data": {
      "text/plain": [
       "[((2013, 17), (715, 3, 1, 1)),\n",
       " ((2013, 7), (2431, 5, 2, 2)),\n",
       " ((2014, 49), (2522, 4, 1, 1))]"
      ]
     },
     "execution_count": 24,
     "metadata": {},
     "output_type": "execute_result"
    }
   ],
   "source": [
    "#re-arrange featuresRDD to to join with weeklyAvePrice: \n",
    "#[(year, weekOfYear),beat,num of crime, num of arrest, num of domestic]\n",
    "featuresRDD=featuresRDD.map(lambda x: ((x[0][1],x[0][2]),(x[0][0],x[1][0][0],x[1][0][1],x[1][1])))\n",
    "featuresRDD.take(3)\n",
    "#featuresRDD.count() #13729"
   ]
  },
  {
   "cell_type": "code",
   "execution_count": 25,
   "metadata": {
    "collapsed": false
   },
   "outputs": [
    {
     "data": {
      "text/plain": [
       "[((2013, 33), ((2223, 9, 2, 2), 1676.6430107526883)),\n",
       " ((2013, 33), ((2533, 7, 1, 3), 1676.6430107526883)),\n",
       " ((2013, 33), ((631, 19, 3, 8), 1676.6430107526883))]"
      ]
     },
     "execution_count": 25,
     "metadata": {},
     "output_type": "execute_result"
    }
   ],
   "source": [
    "featuresRDD=featuresRDD.join(weeklyAvePrice)\n",
    "#featuresRDD.count() #13729\n",
    "featuresRDD.take(3)"
   ]
  },
  {
   "cell_type": "code",
   "execution_count": 26,
   "metadata": {
    "collapsed": false
   },
   "outputs": [
    {
     "data": {
      "text/plain": [
       "[(9, 33, 2223, 2, 2, 1676.6430107526883),\n",
       " (7, 33, 2533, 1, 3, 1676.6430107526883),\n",
       " (19, 33, 631, 3, 8, 1676.6430107526883)]"
      ]
     },
     "execution_count": 26,
     "metadata": {},
     "output_type": "execute_result"
    }
   ],
   "source": [
    "#re-arrange fields and drop year field to enter MLlib\n",
    "#[number of crimes, weekOfYear, beat, num of arrest, num of domestic, weeklyAvePrice]\n",
    "featuresRDD=featuresRDD.map(lambda x: (x[1][0][1],x[0][1],x[1][0][0],x[1][0][2],x[1][0][3],x[1][1]))\n",
    "featuresRDD.take(3)"
   ]
  },
  {
   "cell_type": "code",
   "execution_count": 27,
   "metadata": {
    "collapsed": true
   },
   "outputs": [],
   "source": [
    "#Create dictionary starting at index = 0, ending at index = n-1, for categorical features\n",
    "#where n is the number of categories for feature\n",
    "#trees for categorical features require start at index 0\n",
    "\n",
    "#create category index for weekOfYear starting at index 0:\n",
    "weekIndex = dict(zip(range(1,54), range(0,53)))"
   ]
  },
  {
   "cell_type": "code",
   "execution_count": 28,
   "metadata": {
    "collapsed": false
   },
   "outputs": [],
   "source": [
    "#create category index for best starting at index 0:\n",
    "beat = featuresRDD.map(lambda x: x[2]).distinct().sortBy(lambda x: x ) # 270 records\n",
    "#beat.count()\n",
    "beatIndex = dict(beat.zipWithIndex().map(lambda x: (x[0],x[1])).collect())"
   ]
  },
  {
   "cell_type": "code",
   "execution_count": 29,
   "metadata": {
    "collapsed": false
   },
   "outputs": [
    {
     "data": {
      "text/plain": [
       "[(9, [32, 242, 2, 2, 1676.6430107526883]),\n",
       " (7, [32, 267, 1, 3, 1676.6430107526883]),\n",
       " (19, [32, 67, 3, 8, 1676.6430107526883])]"
      ]
     },
     "execution_count": 29,
     "metadata": {},
     "output_type": "execute_result"
    }
   ],
   "source": [
    "#[(crimes, [weekIndex, beatIndex, num of arrest, num of domestic, weeklyAvePrice])]\n",
    "features = featuresRDD.map(lambda x: (x[0],[weekIndex[x[1]],beatIndex[x[2]],x[3],x[4],x[5]]))\n",
    "features = features.filter(lambda x: re.findall(\"[0-9]+\", str(x[1][1])))\n",
    "#features.map(lambda x:x[1][1]).take(3)\n",
    "features.take(3)"
   ]
  },
  {
   "cell_type": "code",
   "execution_count": 30,
   "metadata": {
    "collapsed": false
   },
   "outputs": [],
   "source": [
    "# convert to labeled point, (response, [predictors])\n",
    "featuresLP = features.map(lambda x: LabeledPoint(x[0],x[1]))"
   ]
  },
  {
   "cell_type": "code",
   "execution_count": 31,
   "metadata": {
    "collapsed": true
   },
   "outputs": [],
   "source": [
    "# Split the data into training and test sets (30% held out for testing)\n",
    "(trainingData, testData) = featuresLP.randomSplit([0.7, 0.3])"
   ]
  },
  {
   "cell_type": "code",
   "execution_count": 32,
   "metadata": {
    "collapsed": false
   },
   "outputs": [],
   "source": [
    "featuresIndex = {0:270}\n",
    "#maxBins = max(len(beatIndex),len(weekIndex)) \n",
    "#ecisionTree requires maxBins >= max categories in categorical features (270)\n"
   ]
  },
  {
   "cell_type": "code",
   "execution_count": 33,
   "metadata": {
    "collapsed": false
   },
   "outputs": [],
   "source": [
    "### random forest fit for violent crime prediction\n",
    "violentModel = RandomForest.trainRegressor(trainingData, categoricalFeaturesInfo=featuresIndex,\n",
    "                                    numTrees=5, featureSubsetStrategy=\"auto\",\n",
    "                                    impurity='variance', maxDepth=5, maxBins=270)"
   ]
  },
  {
   "cell_type": "code",
   "execution_count": 34,
   "metadata": {
    "collapsed": false
   },
   "outputs": [
    {
     "name": "stdout",
     "output_type": "stream",
     "text": [
      "Test Mean Squared Error = 5.5053853821143495\n"
     ]
    }
   ],
   "source": [
    "### Evalute violent crime prediction model\n",
    "# Evaluate model on test instances and compute test error\n",
    "predictions = violentModel.predict(testData.map(lambda x: x.features))\n",
    "labelsAndPredictions = testData.map(lambda lp: lp.label).zip(predictions)\n",
    "testMSE = labelsAndPredictions.map(lambda v_p1: (v_p1[0] - v_p1[1]) * (v_p1[0] - v_p1[1]))\\\n",
    "    .sum() / float(testData.count())\n",
    "print('Test Mean Squared Error = ' + str(testMSE))\n",
    "#print('Learned regression forest model:')"
   ]
  },
  {
   "cell_type": "code",
   "execution_count": 37,
   "metadata": {
    "collapsed": false
   },
   "outputs": [],
   "source": [
    "#Prediction\n",
    "#Predict number of violent crime in chicago beats for next week\n",
    "nextWeek = datetime.now().isocalendar()[1]\n",
    "nextWeekPrice=np.mean([2,429.33,2,436.10,2,439.07,2,430.06,2,411.80]) #average SP500 adj close price over past 5 days\n",
    "#use average num of arrest and average num of domestic as input: 25,23\n",
    "dataNextWeek = beat.map(lambda x: [weekIndex[nextWeek],beatIndex[x],25,23,nextWeekPrice])\n",
    "\n",
    "violentCrimeNextWeek = violentModel.predict(dataNextWeek)\n",
    "\n",
    "# [((week, prediction), beat)]\n",
    "violentPredictions = violentCrimeNextWeek.map(lambda x: (nextWeek, x)).zip(beat)\n"
   ]
  },
  {
   "cell_type": "code",
   "execution_count": 38,
   "metadata": {
    "collapsed": false,
    "scrolled": true
   },
   "outputs": [
    {
     "data": {
      "text/plain": [
       "[[23, 111, 13.369984891724021],\n",
       " [23, 112, 13.369984891724021],\n",
       " [23, 113, 13.369984891724021],\n",
       " [23, 114, 13.369984891724021],\n",
       " [23, 121, 13.369984891724021]]"
      ]
     },
     "execution_count": 38,
     "metadata": {},
     "output_type": "execute_result"
    }
   ],
   "source": [
    "# re-arrange into [[week, beat, prediction]]\n",
    "violentPredictions = violentPredictions.map(lambda x: [x[0][0], x[1], x[0][1]])\n",
    "violentPredictions.take(5)"
   ]
  },
  {
   "cell_type": "code",
   "execution_count": 46,
   "metadata": {
    "collapsed": false
   },
   "outputs": [],
   "source": [
    "#write prediction results to local:\n",
    "violentOutput = violentPredictions.collect()\n",
    "\n",
    "with open(\"violentOutput.csv\", 'w') as f:\n",
    "    writer = csv.writer(f)\n",
    "    writer.writerow(['Test MSE: {0}'.format(testMSE)])\n",
    "    writer.writerow(['**************'])\n",
    "    writer.writerow([\"week\", \"beat\", \"prediction\"])\n",
    "    writer.writerows(violentOutput)"
   ]
  },
  {
   "cell_type": "markdown",
   "metadata": {},
   "source": [
    "# Weekly Non-violent Crime Prediction for Chicago Beats in the past three years\n"
   ]
  },
  {
   "cell_type": "code",
   "execution_count": 47,
   "metadata": {
    "collapsed": false,
    "scrolled": true
   },
   "outputs": [
    {
     "data": {
      "text/plain": [
       "[(10078659,\n",
       "  ('HY267429',\n",
       "   '05/19/2015 11:57:00 PM',\n",
       "   '143A',\n",
       "   'WEAPONS VIOLATION',\n",
       "   True,\n",
       "   False,\n",
       "   624,\n",
       "   2015,\n",
       "   2127.830078)),\n",
       " (10078598,\n",
       "  ('HY267408',\n",
       "   '05/19/2015 11:50:00 PM',\n",
       "   '3731',\n",
       "   'INTERFERENCE WITH PUBLIC OFFICER',\n",
       "   True,\n",
       "   False,\n",
       "   2432,\n",
       "   2015,\n",
       "   2127.830078)),\n",
       " (10078625,\n",
       "  ('HY267417',\n",
       "   '05/19/2015 11:47:00 PM',\n",
       "   '2170',\n",
       "   'NARCOTICS',\n",
       "   True,\n",
       "   False,\n",
       "   421,\n",
       "   2015,\n",
       "   2127.830078)),\n",
       " (10078584,\n",
       "  ('HY267397',\n",
       "   '05/19/2015 11:45:00 PM',\n",
       "   '4625',\n",
       "   'OTHER OFFENSE',\n",
       "   True,\n",
       "   False,\n",
       "   935,\n",
       "   2015,\n",
       "   2127.830078)),\n",
       " (10078594,\n",
       "  ('HY267388',\n",
       "   '05/19/2015 11:30:00 PM',\n",
       "   '1305',\n",
       "   'CRIMINAL DAMAGE',\n",
       "   True,\n",
       "   False,\n",
       "   1434,\n",
       "   2015,\n",
       "   2127.830078))]"
      ]
     },
     "execution_count": 47,
     "metadata": {},
     "output_type": "execute_result"
    }
   ],
   "source": [
    "#select useful features in nonviolentRDD: ID|Case Number|Date|IUCR|Primary Type|Arrest|Domestic|Beat|Year|adj close\n",
    "nonviolentRDD2=nonviolentRDD.map(lambda x: (x[0],(x[1],x[2],x[4],x[5],x[8],x[9],x[10],x[17],x[28])))\n",
    "nonviolentRDD2.take(5)"
   ]
  },
  {
   "cell_type": "code",
   "execution_count": 48,
   "metadata": {
    "collapsed": false,
    "scrolled": true
   },
   "outputs": [
    {
     "data": {
      "text/plain": [
       "[(9076738,\n",
       "  (('HW221405',\n",
       "    '04/05/2013 10:30:00 PM',\n",
       "    '0820',\n",
       "    'THEFT',\n",
       "    False,\n",
       "    False,\n",
       "    2222,\n",
       "    2013,\n",
       "    1553.280029),\n",
       "   14)),\n",
       " (9404450,\n",
       "  (('HW548048',\n",
       "    '11/25/2013 06:00:00 PM',\n",
       "    '0880',\n",
       "    'THEFT',\n",
       "    False,\n",
       "    False,\n",
       "    1813,\n",
       "    2013,\n",
       "    1802.47998),\n",
       "   48)),\n",
       " (9502724,\n",
       "  (('HX157814',\n",
       "    '02/18/2014 12:01:00 AM',\n",
       "    '0820',\n",
       "    'THEFT',\n",
       "    False,\n",
       "    False,\n",
       "    813,\n",
       "    2014,\n",
       "    1840.76001),\n",
       "   8)),\n",
       " (9213270,\n",
       "  (('HW359283',\n",
       "    '07/12/2013 01:15:00 PM',\n",
       "    '0860',\n",
       "    'THEFT',\n",
       "    True,\n",
       "    False,\n",
       "    411,\n",
       "    2013,\n",
       "    1680.189941),\n",
       "   28)),\n",
       " (9956012,\n",
       "  (('HY144959',\n",
       "    '02/09/2015 07:00:00 AM',\n",
       "    '1330',\n",
       "    'CRIMINAL TRESPASS',\n",
       "    True,\n",
       "    False,\n",
       "    2514,\n",
       "    2015,\n",
       "    2046.73999),\n",
       "   7))]"
      ]
     },
     "execution_count": 48,
     "metadata": {},
     "output_type": "execute_result"
    }
   ],
   "source": [
    "#joined weekOfYear back to nonviolentRDD2:\n",
    "nonviolentRDD3=nonviolentRDD2.join(weekOfYear)\n",
    "nonviolentRDD3.take(5)"
   ]
  },
  {
   "cell_type": "code",
   "execution_count": 49,
   "metadata": {
    "collapsed": false
   },
   "outputs": [
    {
     "data": {
      "text/plain": [
       "[((1511, 2015, 1), 2), ((131, 2014, 2), 5), ((223, 2014, 12), 7)]"
      ]
     },
     "execution_count": 49,
     "metadata": {},
     "output_type": "execute_result"
    }
   ],
   "source": [
    "#calculate number of crimes by (beat, year, weekOfYear) as response variable\n",
    "pairsNV=nonviolentRDD3.map(lambda x: ((x[1][0][6],x[1][0][7],x[1][1]),1))\n",
    "#pairsNV.take(3)\n",
    "countsNV=pairsNV.reduceByKey(lambda x,y: int(x)+int(y))\n",
    "countsNV.take(3)"
   ]
  },
  {
   "cell_type": "code",
   "execution_count": 53,
   "metadata": {
    "collapsed": false
   },
   "outputs": [
    {
     "data": {
      "text/plain": [
       "[((1833, 2014, 38), 1), ((233, 2014, 12), 1), ((1122, 2014, 3), 10)]"
      ]
     },
     "execution_count": 53,
     "metadata": {},
     "output_type": "execute_result"
    }
   ],
   "source": [
    "#calculate number of arrest by (beat,year, weekOfYear) as predictor\n",
    "pairsNV2 = nonviolentRDD3.filter(lambda x: x[1][0][4]==True).map(lambda x:((x[1][0][6],x[1][0][7],x[1][1]),1))\n",
    "#pairsNV2.take(3)\n",
    "countsNV2=pairsNV2.reduceByKey(lambda x,y: int(x)+int(y))\n",
    "countsNV2.take(3)"
   ]
  },
  {
   "cell_type": "code",
   "execution_count": 50,
   "metadata": {
    "collapsed": false
   },
   "outputs": [
    {
     "data": {
      "text/plain": [
       "[((1511, 2013, 31), 2), ((726, 2013, 4), 1), ((1832, 2014, 3), 1)]"
      ]
     },
     "execution_count": 50,
     "metadata": {},
     "output_type": "execute_result"
    }
   ],
   "source": [
    "#calculate number of domestic by (beat,year, weekOfYear) as predictor\n",
    "pairsNV3 = nonviolentRDD3.filter(lambda x: x[1][0][5]==True).map(lambda x:((x[1][0][6],x[1][0][7],x[1][1]),1))\n",
    "#pairsNV3.take(3)\n",
    "countsNV3=pairsNV3.reduceByKey(lambda x,y: int(x)+int(y))\n",
    "countsNV3.take(3)"
   ]
  },
  {
   "cell_type": "code",
   "execution_count": 51,
   "metadata": {
    "collapsed": false
   },
   "outputs": [
    {
     "data": {
      "text/plain": [
       "[((2013, 33), 1676.815995001562),\n",
       " ((2014, 28), 1968.725626740947),\n",
       " ((2014, 10), 1870.0199291408326)]"
      ]
     },
     "execution_count": 51,
     "metadata": {},
     "output_type": "execute_result"
    }
   ],
   "source": [
    "#calculate average adj close SP500 by (year, weekOfYear)\n",
    "#calculate counts\n",
    "pairsNV4=nonviolentRDD3.map(lambda x: ((x[1][0][7],x[1][1]),1))\n",
    "#pairsNV4.take(3)\n",
    "countsNV4=pairsNV4.reduceByKey(lambda x,y: int(x)+int(y))\n",
    "#countsNV4.take(3)\n",
    "\n",
    "#calculate sum\n",
    "pairsNV4_2 =nonviolentRDD3.map(lambda x: ((x[1][0][7],x[1][1]),x[1][0][8]))\n",
    "#pairsNV4_2.take(3)\n",
    "sumNV=pairsNV4_2.reduceByKey(lambda x,y: int(x)+int(y))\n",
    "#sumNV.take(3)\n",
    "\n",
    "#[(year, weekOfYear),weeklyAvePrice]\n",
    "weeklyjoinNV=sumNV.join(countsNV4)\n",
    "#weeklyjoinNV.take(3)\n",
    "weeklyAvePriceNV=weeklyjoinNV.map(lambda x: (x[0],x[1][0]/x[1][1]))\n",
    "weeklyAvePriceNV.take(3)\n",
    "#weeklyAvePriceNV.count() #125"
   ]
  },
  {
   "cell_type": "code",
   "execution_count": 54,
   "metadata": {
    "collapsed": false
   },
   "outputs": [
    {
     "data": {
      "text/plain": [
       "[((1533, 2015, 7), ((22, 16), 1)),\n",
       " ((1234, 2014, 25), ((9, 2), 1)),\n",
       " ((735, 2013, 23), ((10, 5), 1))]"
      ]
     },
     "execution_count": 54,
     "metadata": {},
     "output_type": "execute_result"
    }
   ],
   "source": [
    "#joined all the features into one rdd: [(beat,year,weekOfYear), num of crime, num of arrest, num of domestic]\n",
    "NVfeaturesRDD=countsNV.join(countsNV2).join(countsNV3)\n",
    "NVfeaturesRDD.take(3)"
   ]
  },
  {
   "cell_type": "code",
   "execution_count": 55,
   "metadata": {
    "collapsed": false
   },
   "outputs": [
    {
     "data": {
      "text/plain": [
       "[((2015, 7), (1533, 22, 16, 1)),\n",
       " ((2014, 25), (1234, 9, 2, 1)),\n",
       " ((2013, 23), (735, 10, 5, 1))]"
      ]
     },
     "execution_count": 55,
     "metadata": {},
     "output_type": "execute_result"
    }
   ],
   "source": [
    "#re-arrange NVfeaturesRDD to to join with weeklyAvePriceNV: \n",
    "#[(year, weekOfYear),beat,num of crime, num of arrest, num of domestic]\n",
    "NVfeaturesRDD=NVfeaturesRDD.map(lambda x: ((x[0][1],x[0][2]),(x[0][0],x[1][0][0],x[1][0][1],x[1][1])))\n",
    "NVfeaturesRDD.take(3)\n",
    "#NVfeaturesRDD.count() #13729"
   ]
  },
  {
   "cell_type": "code",
   "execution_count": 56,
   "metadata": {
    "collapsed": false
   },
   "outputs": [
    {
     "data": {
      "text/plain": [
       "[((2013, 33), ((2223, 15, 1, 1), 1676.815995001562)),\n",
       " ((2013, 33), ((1215, 10, 1, 1), 1676.815995001562)),\n",
       " ((2013, 33), ((631, 16, 9, 1), 1676.815995001562))]"
      ]
     },
     "execution_count": 56,
     "metadata": {},
     "output_type": "execute_result"
    }
   ],
   "source": [
    "NVfeaturesRDD=NVfeaturesRDD.join(weeklyAvePriceNV)\n",
    "#NVfeaturesRDD.count() #13729\n",
    "NVfeaturesRDD.take(3)"
   ]
  },
  {
   "cell_type": "code",
   "execution_count": 57,
   "metadata": {
    "collapsed": false
   },
   "outputs": [
    {
     "data": {
      "text/plain": [
       "[(15, 33, 2223, 1, 1, 1676.815995001562),\n",
       " (10, 33, 1215, 1, 1, 1676.815995001562),\n",
       " (16, 33, 631, 9, 1, 1676.815995001562)]"
      ]
     },
     "execution_count": 57,
     "metadata": {},
     "output_type": "execute_result"
    }
   ],
   "source": [
    "#re-arrange fields and drop year field to enter MLlib\n",
    "#[number of crimes, weekOfYear, beat, num of arrest, num of domestic, weeklyAvePrice]\n",
    "NVfeaturesRDD=NVfeaturesRDD.map(lambda x: (x[1][0][1],x[0][1],x[1][0][0],x[1][0][2],x[1][0][3],x[1][1]))\n",
    "NVfeaturesRDD.take(3)"
   ]
  },
  {
   "cell_type": "code",
   "execution_count": 58,
   "metadata": {
    "collapsed": true
   },
   "outputs": [],
   "source": [
    "#create category index for weekOfYear starting at index 0:\n",
    "weekIndex = dict(zip(range(1,54), range(0,53)))"
   ]
  },
  {
   "cell_type": "code",
   "execution_count": 59,
   "metadata": {
    "collapsed": false
   },
   "outputs": [],
   "source": [
    "#create category index for best starting at index 0:\n",
    "beat2 = NVfeaturesRDD.map(lambda x: x[2]).distinct().sortBy(lambda x: x ) \n",
    "#beat2.count() # 271 records\n",
    "beatIndex2 = dict(beat2.zipWithIndex().map(lambda x: (x[0],x[1])).collect())"
   ]
  },
  {
   "cell_type": "code",
   "execution_count": 60,
   "metadata": {
    "collapsed": false
   },
   "outputs": [
    {
     "data": {
      "text/plain": [
       "[(15, [32, 243, 1, 1, 1676.815995001562]),\n",
       " (10, [32, 147, 1, 1, 1676.815995001562]),\n",
       " (16, [32, 67, 9, 1, 1676.815995001562])]"
      ]
     },
     "execution_count": 60,
     "metadata": {},
     "output_type": "execute_result"
    }
   ],
   "source": [
    "#[(crimes, [weekIndex, beatIndex, num of arrest, num of domestic, weeklyAvePrice])]\n",
    "NVfeatures = NVfeaturesRDD.map(lambda x: (x[0],[weekIndex[x[1]],beatIndex2[x[2]],x[3],x[4],x[5]]))\n",
    "NVfeatures = NVfeatures.filter(lambda x: re.findall(\"[0-9]+\", str(x[1][1])))\n",
    "#NVfeatures.map(lambda x:x[1][1]).take(3)\n",
    "NVfeatures.take(3)"
   ]
  },
  {
   "cell_type": "code",
   "execution_count": 61,
   "metadata": {
    "collapsed": true
   },
   "outputs": [],
   "source": [
    "#convert to labeled point, (response, [predictors])\n",
    "NVfeaturesLP = NVfeatures.map(lambda x: LabeledPoint(x[0],x[1]))"
   ]
  },
  {
   "cell_type": "code",
   "execution_count": 62,
   "metadata": {
    "collapsed": true
   },
   "outputs": [],
   "source": [
    "#Split the data into training and test sets (30% held out for testing)\n",
    "(trainingData2, testData2) = NVfeaturesLP.randomSplit([0.7, 0.3])"
   ]
  },
  {
   "cell_type": "code",
   "execution_count": 63,
   "metadata": {
    "collapsed": true
   },
   "outputs": [],
   "source": [
    "NVfeaturesIndex = {0:271}\n",
    "#maxBins = max(len(beatIndex),len(weekIndex)) \n",
    "#ecisionTree requires maxBins >= max categories in categorical features (270)"
   ]
  },
  {
   "cell_type": "code",
   "execution_count": 64,
   "metadata": {
    "collapsed": true
   },
   "outputs": [],
   "source": [
    "### random forest fit for nonviolent crime prediction\n",
    "nonviolentModel = RandomForest.trainRegressor(trainingData2, categoricalFeaturesInfo=NVfeaturesIndex,\n",
    "                                    numTrees=5, featureSubsetStrategy=\"auto\",\n",
    "                                    impurity='variance', maxDepth=5, maxBins=271)"
   ]
  },
  {
   "cell_type": "code",
   "execution_count": 65,
   "metadata": {
    "collapsed": false
   },
   "outputs": [
    {
     "name": "stdout",
     "output_type": "stream",
     "text": [
      "Test Mean Squared Error = 11.96188556156307\n"
     ]
    }
   ],
   "source": [
    "### Evalute nonviolent crime prediction model\n",
    "# Evaluate model on test instances and compute test error\n",
    "predictions2 = nonviolentModel.predict(testData2.map(lambda x: x.features))\n",
    "labelsAndPredictions2 = testData2.map(lambda lp: lp.label).zip(predictions2)\n",
    "testMSE2 = labelsAndPredictions2.map(lambda v_p1: (v_p1[0] - v_p1[1]) * (v_p1[0] - v_p1[1]))\\\n",
    "    .sum() / float(testData2.count())\n",
    "print('Test Mean Squared Error = ' + str(testMSE2))\n",
    "#print('Learned regression forest model:')"
   ]
  },
  {
   "cell_type": "code",
   "execution_count": 66,
   "metadata": {
    "collapsed": true
   },
   "outputs": [],
   "source": [
    "#Prediction\n",
    "#Predict number of nonviolent crime in chicago beats for next week\n",
    "nextWeek = datetime.now().isocalendar()[1]\n",
    "nextWeekPrice=np.mean([2,429.33,2,436.10,2,439.07,2,430.06,2,411.80]) #average SP500 adj close price over past 5 days\n",
    "#use average num of arrest and average num of domestic as input: 25,23\n",
    "dataNextWeek2 = beat2.map(lambda x: [weekIndex[nextWeek],beatIndex2[x],25,23,nextWeekPrice])\n",
    "\n",
    "nonviolentCrimeNextWeek = nonviolentModel.predict(dataNextWeek2)\n",
    "\n",
    "# [((week, prediction), beat)]\n",
    "nonviolentPredictions = nonviolentCrimeNextWeek.map(lambda x: (nextWeek, x)).zip(beat2)"
   ]
  },
  {
   "cell_type": "code",
   "execution_count": 67,
   "metadata": {
    "collapsed": false
   },
   "outputs": [
    {
     "data": {
      "text/plain": [
       "[[23, 111, 24.97424652073861],\n",
       " [23, 112, 24.97424652073861],\n",
       " [23, 113, 24.97424652073861],\n",
       " [23, 114, 24.97424652073861],\n",
       " [23, 121, 24.97424652073861]]"
      ]
     },
     "execution_count": 67,
     "metadata": {},
     "output_type": "execute_result"
    }
   ],
   "source": [
    "# re-arrange into [[week, beat, prediction]]\n",
    "nonviolentPredictions = nonviolentPredictions.map(lambda x: [x[0][0], x[1], x[0][1]])\n",
    "nonviolentPredictions.take(5)"
   ]
  },
  {
   "cell_type": "code",
   "execution_count": 69,
   "metadata": {
    "collapsed": true
   },
   "outputs": [],
   "source": [
    "#write prediction results to local:\n",
    "nonviolentOutput = nonviolentPredictions.collect()\n",
    "\n",
    "with open(\"nonviolentOutput.csv\", 'w') as f:\n",
    "    writer = csv.writer(f)\n",
    "    writer.writerow(['Test MSE: {0}'.format(testMSE2)])\n",
    "    writer.writerow(['**************'])\n",
    "    writer.writerow([\"week\", \"beat\", \"prediction\"])\n",
    "    writer.writerows(nonviolentOutput)"
   ]
  },
  {
   "cell_type": "code",
   "execution_count": null,
   "metadata": {
    "collapsed": true
   },
   "outputs": [],
   "source": []
  },
  {
   "cell_type": "code",
   "execution_count": null,
   "metadata": {
    "collapsed": true
   },
   "outputs": [],
   "source": []
  },
  {
   "cell_type": "code",
   "execution_count": 121,
   "metadata": {
    "collapsed": true
   },
   "outputs": [],
   "source": [
    "#build schema for featuresRDD and convert it back to spark dataframe\n",
    "#https://sparkour.urizone.net/recipes/controlling-schema/#02\n",
    "def build_schema():\n",
    "    \"\"\"Build and return a schema to use for the sample data.\"\"\"\n",
    "    schema = StructType(\n",
    "        [\n",
    "            StructField(\"numOfCrime\", IntegerType(), True),\n",
    "            StructField(\"weekOfYear\", StringType(), True),\n",
    "            StructField(\"beat\", StringType(), True),\n",
    "            StructField(\"numOfArrest\", IntegerType(), True),\n",
    "            StructField(\"numOfDomestic\", IntegerType(), True),\n",
    "            StructField(\"weeklyAvePrice\", DoubleType(), True),\n",
    "        ]\n",
    "    )\n",
    "    return schema"
   ]
  },
  {
   "cell_type": "code",
   "execution_count": 156,
   "metadata": {
    "collapsed": false
   },
   "outputs": [
    {
     "name": "stdout",
     "output_type": "stream",
     "text": [
      "root\n",
      " |-- numOfCrime: integer (nullable = true)\n",
      " |-- weekOfYear: string (nullable = true)\n",
      " |-- beat: string (nullable = true)\n",
      " |-- numOfArrest: integer (nullable = true)\n",
      " |-- numOfDomestic: integer (nullable = true)\n",
      " |-- weeklyAvePrice: double (nullable = true)\n",
      "\n",
      "+----------+----------+----+-----------+-------------+------------------+\n",
      "|numOfCrime|weekOfYear|beat|numOfArrest|numOfDomestic|    weeklyAvePrice|\n",
      "+----------+----------+----+-----------+-------------+------------------+\n",
      "|         9|        33|2223|          2|            2|1676.6430107526883|\n",
      "|         7|        33|2533|          1|            3|1676.6430107526883|\n",
      "|        19|        33| 631|          3|            8|1676.6430107526883|\n",
      "+----------+----------+----+-----------+-------------+------------------+\n",
      "only showing top 3 rows\n",
      "\n"
     ]
    }
   ],
   "source": [
    "# convert featuresRDD back to dataframe, specifying schema.\n",
    "featuresDF = spark.createDataFrame(featuresRDD, schema=build_schema())\n",
    "featuresDF.printSchema()\n",
    "featuresDF.show(3)"
   ]
  },
  {
   "cell_type": "code",
   "execution_count": 14,
   "metadata": {
    "collapsed": false
   },
   "outputs": [
    {
     "name": "stderr",
     "output_type": "stream",
     "text": [
      "//anaconda/lib/python3.5/site-packages/IPython/core/interactiveshell.py:2717: DtypeWarning: Columns (13) have mixed types. Specify dtype option on import or set low_memory=False.\n",
      "  interactivity=interactivity, compiler=compiler, result=result)\n"
     ]
    }
   ],
   "source": [
    "crime=pd.read_csv('Crimes_-_2001_to_present.csv')\n"
   ]
  },
  {
   "cell_type": "code",
   "execution_count": 52,
   "metadata": {
    "collapsed": false
   },
   "outputs": [
    {
     "data": {
      "text/html": [
       "<div>\n",
       "<table border=\"1\" class=\"dataframe\">\n",
       "  <thead>\n",
       "    <tr style=\"text-align: right;\">\n",
       "      <th></th>\n",
       "      <th>Beat</th>\n",
       "      <th>District</th>\n",
       "      <th>Ward</th>\n",
       "    </tr>\n",
       "  </thead>\n",
       "  <tbody>\n",
       "    <tr>\n",
       "      <th>0</th>\n",
       "      <td>624</td>\n",
       "      <td>6.0</td>\n",
       "      <td>8.0</td>\n",
       "    </tr>\n",
       "    <tr>\n",
       "      <th>1</th>\n",
       "      <td>2432</td>\n",
       "      <td>24.0</td>\n",
       "      <td>49.0</td>\n",
       "    </tr>\n",
       "    <tr>\n",
       "      <th>2</th>\n",
       "      <td>421</td>\n",
       "      <td>4.0</td>\n",
       "      <td>7.0</td>\n",
       "    </tr>\n",
       "    <tr>\n",
       "      <th>3</th>\n",
       "      <td>314</td>\n",
       "      <td>3.0</td>\n",
       "      <td>5.0</td>\n",
       "    </tr>\n",
       "    <tr>\n",
       "      <th>4</th>\n",
       "      <td>935</td>\n",
       "      <td>9.0</td>\n",
       "      <td>3.0</td>\n",
       "    </tr>\n",
       "    <tr>\n",
       "      <th>5</th>\n",
       "      <td>1011</td>\n",
       "      <td>10.0</td>\n",
       "      <td>24.0</td>\n",
       "    </tr>\n",
       "    <tr>\n",
       "      <th>6</th>\n",
       "      <td>725</td>\n",
       "      <td>7.0</td>\n",
       "      <td>17.0</td>\n",
       "    </tr>\n",
       "    <tr>\n",
       "      <th>7</th>\n",
       "      <td>1434</td>\n",
       "      <td>14.0</td>\n",
       "      <td>32.0</td>\n",
       "    </tr>\n",
       "    <tr>\n",
       "      <th>8</th>\n",
       "      <td>1111</td>\n",
       "      <td>11.0</td>\n",
       "      <td>37.0</td>\n",
       "    </tr>\n",
       "    <tr>\n",
       "      <th>9</th>\n",
       "      <td>813</td>\n",
       "      <td>8.0</td>\n",
       "      <td>13.0</td>\n",
       "    </tr>\n",
       "    <tr>\n",
       "      <th>10</th>\n",
       "      <td>1623</td>\n",
       "      <td>16.0</td>\n",
       "      <td>45.0</td>\n",
       "    </tr>\n",
       "    <tr>\n",
       "      <th>11</th>\n",
       "      <td>1113</td>\n",
       "      <td>11.0</td>\n",
       "      <td>28.0</td>\n",
       "    </tr>\n",
       "    <tr>\n",
       "      <th>12</th>\n",
       "      <td>1513</td>\n",
       "      <td>15.0</td>\n",
       "      <td>29.0</td>\n",
       "    </tr>\n",
       "    <tr>\n",
       "      <th>13</th>\n",
       "      <td>2423</td>\n",
       "      <td>24.0</td>\n",
       "      <td>49.0</td>\n",
       "    </tr>\n",
       "    <tr>\n",
       "      <th>14</th>\n",
       "      <td>1533</td>\n",
       "      <td>15.0</td>\n",
       "      <td>24.0</td>\n",
       "    </tr>\n",
       "    <tr>\n",
       "      <th>15</th>\n",
       "      <td>1012</td>\n",
       "      <td>10.0</td>\n",
       "      <td>24.0</td>\n",
       "    </tr>\n",
       "    <tr>\n",
       "      <th>16</th>\n",
       "      <td>1512</td>\n",
       "      <td>15.0</td>\n",
       "      <td>29.0</td>\n",
       "    </tr>\n",
       "    <tr>\n",
       "      <th>17</th>\n",
       "      <td>632</td>\n",
       "      <td>6.0</td>\n",
       "      <td>6.0</td>\n",
       "    </tr>\n",
       "    <tr>\n",
       "      <th>18</th>\n",
       "      <td>724</td>\n",
       "      <td>7.0</td>\n",
       "      <td>17.0</td>\n",
       "    </tr>\n",
       "    <tr>\n",
       "      <th>19</th>\n",
       "      <td>611</td>\n",
       "      <td>6.0</td>\n",
       "      <td>17.0</td>\n",
       "    </tr>\n",
       "    <tr>\n",
       "      <th>20</th>\n",
       "      <td>2233</td>\n",
       "      <td>22.0</td>\n",
       "      <td>34.0</td>\n",
       "    </tr>\n",
       "    <tr>\n",
       "      <th>21</th>\n",
       "      <td>835</td>\n",
       "      <td>8.0</td>\n",
       "      <td>18.0</td>\n",
       "    </tr>\n",
       "    <tr>\n",
       "      <th>22</th>\n",
       "      <td>522</td>\n",
       "      <td>5.0</td>\n",
       "      <td>34.0</td>\n",
       "    </tr>\n",
       "    <tr>\n",
       "      <th>23</th>\n",
       "      <td>2535</td>\n",
       "      <td>25.0</td>\n",
       "      <td>26.0</td>\n",
       "    </tr>\n",
       "    <tr>\n",
       "      <th>24</th>\n",
       "      <td>2013</td>\n",
       "      <td>20.0</td>\n",
       "      <td>48.0</td>\n",
       "    </tr>\n",
       "    <tr>\n",
       "      <th>25</th>\n",
       "      <td>421</td>\n",
       "      <td>4.0</td>\n",
       "      <td>7.0</td>\n",
       "    </tr>\n",
       "    <tr>\n",
       "      <th>26</th>\n",
       "      <td>122</td>\n",
       "      <td>1.0</td>\n",
       "      <td>2.0</td>\n",
       "    </tr>\n",
       "    <tr>\n",
       "      <th>27</th>\n",
       "      <td>1831</td>\n",
       "      <td>18.0</td>\n",
       "      <td>42.0</td>\n",
       "    </tr>\n",
       "    <tr>\n",
       "      <th>28</th>\n",
       "      <td>1911</td>\n",
       "      <td>19.0</td>\n",
       "      <td>47.0</td>\n",
       "    </tr>\n",
       "    <tr>\n",
       "      <th>29</th>\n",
       "      <td>726</td>\n",
       "      <td>7.0</td>\n",
       "      <td>15.0</td>\n",
       "    </tr>\n",
       "    <tr>\n",
       "      <th>...</th>\n",
       "      <td>...</td>\n",
       "      <td>...</td>\n",
       "      <td>...</td>\n",
       "    </tr>\n",
       "    <tr>\n",
       "      <th>5801814</th>\n",
       "      <td>1022</td>\n",
       "      <td>NaN</td>\n",
       "      <td>24.0</td>\n",
       "    </tr>\n",
       "    <tr>\n",
       "      <th>5801815</th>\n",
       "      <td>1022</td>\n",
       "      <td>NaN</td>\n",
       "      <td>24.0</td>\n",
       "    </tr>\n",
       "    <tr>\n",
       "      <th>5801816</th>\n",
       "      <td>1022</td>\n",
       "      <td>NaN</td>\n",
       "      <td>24.0</td>\n",
       "    </tr>\n",
       "    <tr>\n",
       "      <th>5801817</th>\n",
       "      <td>712</td>\n",
       "      <td>NaN</td>\n",
       "      <td>NaN</td>\n",
       "    </tr>\n",
       "    <tr>\n",
       "      <th>5801818</th>\n",
       "      <td>1022</td>\n",
       "      <td>NaN</td>\n",
       "      <td>24.0</td>\n",
       "    </tr>\n",
       "    <tr>\n",
       "      <th>5801819</th>\n",
       "      <td>825</td>\n",
       "      <td>NaN</td>\n",
       "      <td>NaN</td>\n",
       "    </tr>\n",
       "    <tr>\n",
       "      <th>5801820</th>\n",
       "      <td>1022</td>\n",
       "      <td>NaN</td>\n",
       "      <td>24.0</td>\n",
       "    </tr>\n",
       "    <tr>\n",
       "      <th>5801821</th>\n",
       "      <td>1022</td>\n",
       "      <td>NaN</td>\n",
       "      <td>24.0</td>\n",
       "    </tr>\n",
       "    <tr>\n",
       "      <th>5801822</th>\n",
       "      <td>1022</td>\n",
       "      <td>NaN</td>\n",
       "      <td>24.0</td>\n",
       "    </tr>\n",
       "    <tr>\n",
       "      <th>5801823</th>\n",
       "      <td>1512</td>\n",
       "      <td>NaN</td>\n",
       "      <td>NaN</td>\n",
       "    </tr>\n",
       "    <tr>\n",
       "      <th>5801824</th>\n",
       "      <td>1022</td>\n",
       "      <td>NaN</td>\n",
       "      <td>24.0</td>\n",
       "    </tr>\n",
       "    <tr>\n",
       "      <th>5801825</th>\n",
       "      <td>2411</td>\n",
       "      <td>NaN</td>\n",
       "      <td>NaN</td>\n",
       "    </tr>\n",
       "    <tr>\n",
       "      <th>5801826</th>\n",
       "      <td>1022</td>\n",
       "      <td>NaN</td>\n",
       "      <td>24.0</td>\n",
       "    </tr>\n",
       "    <tr>\n",
       "      <th>5801827</th>\n",
       "      <td>632</td>\n",
       "      <td>NaN</td>\n",
       "      <td>NaN</td>\n",
       "    </tr>\n",
       "    <tr>\n",
       "      <th>5801828</th>\n",
       "      <td>1022</td>\n",
       "      <td>NaN</td>\n",
       "      <td>24.0</td>\n",
       "    </tr>\n",
       "    <tr>\n",
       "      <th>5801829</th>\n",
       "      <td>1013</td>\n",
       "      <td>NaN</td>\n",
       "      <td>NaN</td>\n",
       "    </tr>\n",
       "    <tr>\n",
       "      <th>5801830</th>\n",
       "      <td>1022</td>\n",
       "      <td>NaN</td>\n",
       "      <td>24.0</td>\n",
       "    </tr>\n",
       "    <tr>\n",
       "      <th>5801831</th>\n",
       "      <td>1711</td>\n",
       "      <td>NaN</td>\n",
       "      <td>NaN</td>\n",
       "    </tr>\n",
       "    <tr>\n",
       "      <th>5801832</th>\n",
       "      <td>1651</td>\n",
       "      <td>NaN</td>\n",
       "      <td>NaN</td>\n",
       "    </tr>\n",
       "    <tr>\n",
       "      <th>5801833</th>\n",
       "      <td>2112</td>\n",
       "      <td>NaN</td>\n",
       "      <td>NaN</td>\n",
       "    </tr>\n",
       "    <tr>\n",
       "      <th>5801834</th>\n",
       "      <td>933</td>\n",
       "      <td>NaN</td>\n",
       "      <td>NaN</td>\n",
       "    </tr>\n",
       "    <tr>\n",
       "      <th>5801835</th>\n",
       "      <td>1831</td>\n",
       "      <td>NaN</td>\n",
       "      <td>NaN</td>\n",
       "    </tr>\n",
       "    <tr>\n",
       "      <th>5801836</th>\n",
       "      <td>714</td>\n",
       "      <td>NaN</td>\n",
       "      <td>NaN</td>\n",
       "    </tr>\n",
       "    <tr>\n",
       "      <th>5801837</th>\n",
       "      <td>2212</td>\n",
       "      <td>NaN</td>\n",
       "      <td>NaN</td>\n",
       "    </tr>\n",
       "    <tr>\n",
       "      <th>5801838</th>\n",
       "      <td>524</td>\n",
       "      <td>NaN</td>\n",
       "      <td>NaN</td>\n",
       "    </tr>\n",
       "    <tr>\n",
       "      <th>5801839</th>\n",
       "      <td>1622</td>\n",
       "      <td>NaN</td>\n",
       "      <td>45.0</td>\n",
       "    </tr>\n",
       "    <tr>\n",
       "      <th>5801840</th>\n",
       "      <td>631</td>\n",
       "      <td>NaN</td>\n",
       "      <td>NaN</td>\n",
       "    </tr>\n",
       "    <tr>\n",
       "      <th>5801841</th>\n",
       "      <td>915</td>\n",
       "      <td>NaN</td>\n",
       "      <td>20.0</td>\n",
       "    </tr>\n",
       "    <tr>\n",
       "      <th>5801842</th>\n",
       "      <td>732</td>\n",
       "      <td>7.0</td>\n",
       "      <td>6.0</td>\n",
       "    </tr>\n",
       "    <tr>\n",
       "      <th>5801843</th>\n",
       "      <td>624</td>\n",
       "      <td>NaN</td>\n",
       "      <td>8.0</td>\n",
       "    </tr>\n",
       "  </tbody>\n",
       "</table>\n",
       "<p>5801844 rows × 3 columns</p>\n",
       "</div>"
      ],
      "text/plain": [
       "         Beat  District  Ward\n",
       "0         624       6.0   8.0\n",
       "1        2432      24.0  49.0\n",
       "2         421       4.0   7.0\n",
       "3         314       3.0   5.0\n",
       "4         935       9.0   3.0\n",
       "5        1011      10.0  24.0\n",
       "6         725       7.0  17.0\n",
       "7        1434      14.0  32.0\n",
       "8        1111      11.0  37.0\n",
       "9         813       8.0  13.0\n",
       "10       1623      16.0  45.0\n",
       "11       1113      11.0  28.0\n",
       "12       1513      15.0  29.0\n",
       "13       2423      24.0  49.0\n",
       "14       1533      15.0  24.0\n",
       "15       1012      10.0  24.0\n",
       "16       1512      15.0  29.0\n",
       "17        632       6.0   6.0\n",
       "18        724       7.0  17.0\n",
       "19        611       6.0  17.0\n",
       "20       2233      22.0  34.0\n",
       "21        835       8.0  18.0\n",
       "22        522       5.0  34.0\n",
       "23       2535      25.0  26.0\n",
       "24       2013      20.0  48.0\n",
       "25        421       4.0   7.0\n",
       "26        122       1.0   2.0\n",
       "27       1831      18.0  42.0\n",
       "28       1911      19.0  47.0\n",
       "29        726       7.0  15.0\n",
       "...       ...       ...   ...\n",
       "5801814  1022       NaN  24.0\n",
       "5801815  1022       NaN  24.0\n",
       "5801816  1022       NaN  24.0\n",
       "5801817   712       NaN   NaN\n",
       "5801818  1022       NaN  24.0\n",
       "5801819   825       NaN   NaN\n",
       "5801820  1022       NaN  24.0\n",
       "5801821  1022       NaN  24.0\n",
       "5801822  1022       NaN  24.0\n",
       "5801823  1512       NaN   NaN\n",
       "5801824  1022       NaN  24.0\n",
       "5801825  2411       NaN   NaN\n",
       "5801826  1022       NaN  24.0\n",
       "5801827   632       NaN   NaN\n",
       "5801828  1022       NaN  24.0\n",
       "5801829  1013       NaN   NaN\n",
       "5801830  1022       NaN  24.0\n",
       "5801831  1711       NaN   NaN\n",
       "5801832  1651       NaN   NaN\n",
       "5801833  2112       NaN   NaN\n",
       "5801834   933       NaN   NaN\n",
       "5801835  1831       NaN   NaN\n",
       "5801836   714       NaN   NaN\n",
       "5801837  2212       NaN   NaN\n",
       "5801838   524       NaN   NaN\n",
       "5801839  1622       NaN  45.0\n",
       "5801840   631       NaN   NaN\n",
       "5801841   915       NaN  20.0\n",
       "5801842   732       7.0   6.0\n",
       "5801843   624       NaN   8.0\n",
       "\n",
       "[5801844 rows x 3 columns]"
      ]
     },
     "execution_count": 52,
     "metadata": {},
     "output_type": "execute_result"
    }
   ],
   "source": [
    "crime.iloc[:,10:13]\n",
    "#crime[:5]\n",
    "#crime[-1:]\n",
    "#crime.iloc[[0, 10, 35549], :]\n",
    "#crime[]\n",
    "#crime.iloc[:,0:10].head(5)\n",
    "#crime[[3]]\n",
    "#crime[['Ward','District','Community Area']]\n",
    "#crime[[5]]"
   ]
  },
  {
   "cell_type": "code",
   "execution_count": 5,
   "metadata": {
    "collapsed": false
   },
   "outputs": [
    {
     "name": "stderr",
     "output_type": "stream",
     "text": [
      "//anaconda/lib/python3.5/site-packages/numpy/lib/function_base.py:3834: RuntimeWarning: Invalid value encountered in percentile\n",
      "  RuntimeWarning)\n"
     ]
    },
    {
     "name": "stdout",
     "output_type": "stream",
     "text": [
      "<class 'pandas.core.frame.DataFrame'>\n",
      "RangeIndex: 5801844 entries, 0 to 5801843\n",
      "Data columns (total 22 columns):\n",
      "ID                      int64\n",
      "Case Number             object\n",
      "Date                    object\n",
      "Block                   object\n",
      "IUCR                    object\n",
      "Primary Type            object\n",
      "Description             object\n",
      "Location Description    object\n",
      "Arrest                  bool\n",
      "Domestic                bool\n",
      "Beat                    int64\n",
      "District                float64\n",
      "Ward                    float64\n",
      "Community Area          object\n",
      "FBI Code                object\n",
      "X Coordinate            float64\n",
      "Y Coordinate            float64\n",
      "Year                    int64\n",
      "Updated On              object\n",
      "Latitude                float64\n",
      "Longitude               float64\n",
      "Location                object\n",
      "dtypes: bool(2), float64(6), int64(3), object(11)\n",
      "memory usage: 896.4+ MB\n"
     ]
    }
   ],
   "source": [
    "crime.describe()\n",
    "list(crime)\n",
    "crime.info()"
   ]
  },
  {
   "cell_type": "code",
   "execution_count": 8,
   "metadata": {
    "collapsed": false,
    "scrolled": true
   },
   "outputs": [
    {
     "data": {
      "text/plain": [
       "THEFT                                1197662\n",
       "BATTERY                              1057801\n",
       "CRIMINAL DAMAGE                       668132\n",
       "NARCOTICS                             658978\n",
       "OTHER OFFENSE                         358098\n",
       "ASSAULT                               351696\n",
       "BURGLARY                              341420\n",
       "MOTOR VEHICLE THEFT                   276437\n",
       "ROBBERY                               216743\n",
       "DECEPTIVE PRACTICE                    195123\n",
       "CRIMINAL TRESPASS                     170286\n",
       "PROSTITUTION                           65431\n",
       "WEAPONS VIOLATION                      55637\n",
       "PUBLIC PEACE VIOLATION                 42005\n",
       "OFFENSE INVOLVING CHILDREN             36672\n",
       "SEX OFFENSE                            21125\n",
       "CRIM SEXUAL ASSAULT                    21119\n",
       "GAMBLING                               13622\n",
       "LIQUOR LAW VIOLATION                   13211\n",
       "INTERFERENCE WITH PUBLIC OFFICER       11158\n",
       "ARSON                                   9565\n",
       "HOMICIDE                                7090\n",
       "KIDNAPPING                              6009\n",
       "INTIMIDATION                            3425\n",
       "STALKING                                2741\n",
       "OBSCENITY                                328\n",
       "PUBLIC INDECENCY                         121\n",
       "OTHER NARCOTIC VIOLATION                 105\n",
       "NON-CRIMINAL                              29\n",
       "CONCEALED CARRY LICENSE VIOLATION         24\n",
       "RITUALISM                                 23\n",
       "NON - CRIMINAL                            18\n",
       "HUMAN TRAFFICKING                          6\n",
       "NON-CRIMINAL (SUBJECT SPECIFIED)           3\n",
       "DOMESTIC VIOLENCE                          1\n",
       "Name: Primary Type, dtype: int64"
      ]
     },
     "execution_count": 8,
     "metadata": {},
     "output_type": "execute_result"
    }
   ],
   "source": [
    "crime[\"IUCR\"].value_counts()\n",
    "crime[\"Primary Type\"].value_counts()"
   ]
  },
  {
   "cell_type": "code",
   "execution_count": 1,
   "metadata": {
    "collapsed": false
   },
   "outputs": [
    {
     "ename": "NameError",
     "evalue": "name 'crime' is not defined",
     "output_type": "error",
     "traceback": [
      "\u001b[0;31m---------------------------------------------------------------------------\u001b[0m",
      "\u001b[0;31mNameError\u001b[0m                                 Traceback (most recent call last)",
      "\u001b[0;32m<ipython-input-1-a10870e266fe>\u001b[0m in \u001b[0;36m<module>\u001b[0;34m()\u001b[0m\n\u001b[1;32m      1\u001b[0m \u001b[0;31m#reserse-geocoding trial\u001b[0m\u001b[0;34m\u001b[0m\u001b[0;34m\u001b[0m\u001b[0m\n\u001b[0;32m----> 2\u001b[0;31m \u001b[0mcoords\u001b[0m \u001b[0;34m=\u001b[0m \u001b[0mcrime\u001b[0m\u001b[0;34m[\u001b[0m\u001b[0;34m[\u001b[0m\u001b[0;34m'Latitude'\u001b[0m\u001b[0;34m,\u001b[0m\u001b[0;34m'Longitude'\u001b[0m\u001b[0;34m]\u001b[0m\u001b[0;34m]\u001b[0m\u001b[0;34m.\u001b[0m\u001b[0mhead\u001b[0m\u001b[0;34m(\u001b[0m\u001b[0;36m100\u001b[0m\u001b[0;34m)\u001b[0m\u001b[0;34m\u001b[0m\u001b[0m\n\u001b[0m\u001b[1;32m      3\u001b[0m \u001b[0mcoords\u001b[0m\u001b[0;34m[\u001b[0m\u001b[0;34m'coords'\u001b[0m\u001b[0;34m]\u001b[0m\u001b[0;34m=\u001b[0m \u001b[0mcoords\u001b[0m\u001b[0;34m.\u001b[0m\u001b[0mLatitude\u001b[0m\u001b[0;34m.\u001b[0m\u001b[0mmap\u001b[0m\u001b[0;34m(\u001b[0m\u001b[0mstr\u001b[0m\u001b[0;34m)\u001b[0m \u001b[0;34m+\u001b[0m \u001b[0;34m\", \"\u001b[0m \u001b[0;34m+\u001b[0m \u001b[0mcoords\u001b[0m\u001b[0;34m.\u001b[0m\u001b[0mLongitude\u001b[0m\u001b[0;34m.\u001b[0m\u001b[0mmap\u001b[0m\u001b[0;34m(\u001b[0m\u001b[0mstr\u001b[0m\u001b[0;34m)\u001b[0m\u001b[0;34m\u001b[0m\u001b[0m\n\u001b[1;32m      4\u001b[0m \u001b[0mlocations\u001b[0m \u001b[0;34m=\u001b[0m \u001b[0mgeolocator\u001b[0m\u001b[0;34m.\u001b[0m\u001b[0mreverse\u001b[0m\u001b[0;34m(\u001b[0m\u001b[0mcoords\u001b[0m\u001b[0;34m.\u001b[0m\u001b[0miloc\u001b[0m\u001b[0;34m[\u001b[0m\u001b[0;36m0\u001b[0m\u001b[0;34m,\u001b[0m\u001b[0;34m:\u001b[0m\u001b[0;34m]\u001b[0m\u001b[0;34m,\u001b[0m\u001b[0mcoords\u001b[0m\u001b[0;34m.\u001b[0m\u001b[0miloc\u001b[0m\u001b[0;34m[\u001b[0m\u001b[0;36m0\u001b[0m\u001b[0;34m,\u001b[0m\u001b[0;34m:\u001b[0m\u001b[0;34m]\u001b[0m\u001b[0;34m)\u001b[0m\u001b[0;34m\u001b[0m\u001b[0m\n\u001b[1;32m      5\u001b[0m \u001b[0;31m#print(location.address)\u001b[0m\u001b[0;34m\u001b[0m\u001b[0;34m\u001b[0m\u001b[0m\n",
      "\u001b[0;31mNameError\u001b[0m: name 'crime' is not defined"
     ]
    }
   ],
   "source": [
    "#reserse-geocoding trial\n",
    "coords = crime[['Latitude','Longitude']].head(100)\n",
    "coords['coords']= coords.Latitude.map(str) + \", \" + coords.Longitude.map(str)\n",
    "locations = geolocator.reverse(coords.iloc[0,:],coords.iloc[0,:])\n",
    "#print(location.address)\n",
    "#dir(location)\n",
    "#coords[[0]]"
   ]
  },
  {
   "cell_type": "code",
   "execution_count": 6,
   "metadata": {
    "collapsed": true
   },
   "outputs": [],
   "source": [
    "#from pyspark import SparkContext\n",
    "from pyspark import SparkContext\n",
    "import csv\n",
    "import re\n",
    "from operator import add\n",
    "from pyspark.mllib.stat import Statistics\n",
    "import math\n",
    "from scipy import stats\n",
    "#from pyspark.sql import SQLContext\n",
    "\n",
    "sc = SparkContext.getOrCreate()"
   ]
  },
  {
   "cell_type": "code",
   "execution_count": null,
   "metadata": {
    "collapsed": true
   },
   "outputs": [],
   "source": [
    "#use when done with current pyspark context\n",
    "sc.stop()"
   ]
  },
  {
   "cell_type": "code",
   "execution_count": null,
   "metadata": {
    "collapsed": true
   },
   "outputs": [],
   "source": [
    "crimeFile = sc.textFile(\"Crimes_-_2001_to_present.csv\")\n",
    "crimeFile.take(5)"
   ]
  }
 ],
 "metadata": {
  "anaconda-cloud": {},
  "kernelspec": {
   "display_name": "Python [conda root]",
   "language": "python",
   "name": "conda-root-py"
  },
  "language_info": {
   "codemirror_mode": {
    "name": "ipython",
    "version": 3
   },
   "file_extension": ".py",
   "mimetype": "text/x-python",
   "name": "python",
   "nbconvert_exporter": "python",
   "pygments_lexer": "ipython3",
   "version": "3.5.2"
  }
 },
 "nbformat": 4,
 "nbformat_minor": 1
}
