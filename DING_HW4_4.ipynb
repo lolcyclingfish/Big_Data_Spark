{
 "cells": [
  {
   "cell_type": "markdown",
   "metadata": {},
   "source": [
    "# Pattern of Crime with Arrest in the Past 5 Years"
   ]
  },
  {
   "cell_type": "code",
   "execution_count": 56,
   "metadata": {
    "collapsed": false
   },
   "outputs": [],
   "source": [
    "#from pyspark import SparkContext\n",
    "from pyspark import SparkContext\n",
    "import csv\n",
    "from operator import add\n",
    "from datetime import datetime, date\n",
    "import pandas as pd\n",
    "\n",
    "from pyspark.sql.types import DoubleType\n",
    "from pyspark.sql.types import IntegerType\n",
    "from pyspark.sql.types import StringType\n",
    "from pyspark.sql.types import StructType\n",
    "from pyspark.sql.types import StructField\n",
    "\n",
    "import matplotlib.pyplot as plt; plt.rcdefaults()\n",
    "import numpy as np\n",
    "import matplotlib.pyplot as plt\n",
    "%matplotlib inline\n",
    "\n",
    "sc = SparkContext.getOrCreate()\n"
   ]
  },
  {
   "cell_type": "code",
   "execution_count": 12,
   "metadata": {
    "collapsed": true
   },
   "outputs": [],
   "source": [
    "#use when done with current pyspark context\n",
    "sc.stop()"
   ]
  },
  {
   "cell_type": "code",
   "execution_count": 2,
   "metadata": {
    "collapsed": true
   },
   "outputs": [],
   "source": [
    "crimeFile = sc.textFile(\"Crimes_-_2001_to_present.csv\")\n"
   ]
  },
  {
   "cell_type": "code",
   "execution_count": 4,
   "metadata": {
    "collapsed": false
   },
   "outputs": [
    {
     "data": {
      "text/plain": [
       "5801845"
      ]
     },
     "execution_count": 4,
     "metadata": {},
     "output_type": "execute_result"
    }
   ],
   "source": [
    "crimeFile.count()"
   ]
  },
  {
   "cell_type": "code",
   "execution_count": 3,
   "metadata": {
    "collapsed": false
   },
   "outputs": [
    {
     "data": {
      "text/plain": [
       "['ID,Case Number,Date,Block,IUCR,Primary Type,Description,Location Description,Arrest,Domestic,Beat,District,Ward,Community Area,FBI Code,X Coordinate,Y Coordinate,Year,Updated On,Latitude,Longitude,Location',\n",
       " '10078659,HY267429,05/19/2015 11:57:00 PM,010XX E 79TH ST,143A,WEAPONS VIOLATION,UNLAWFUL POSS OF HANDGUN,STREET,true,false,0624,006,8,44,15,1184626,1852799,2015,05/26/2015 12:42:06 PM,41.751242944,-87.599004724,\"(41.751242944, -87.599004724)\"',\n",
       " '10078598,HY267408,05/19/2015 11:50:00 PM,067XX N SHERIDAN RD,3731,INTERFERENCE WITH PUBLIC OFFICER,OBSTRUCTING IDENTIFICATION,STREET,true,false,2432,024,49,1,24,1167071,1944859,2015,05/26/2015 12:42:06 PM,42.004255918,-87.660691083,\"(42.004255918, -87.660691083)\"',\n",
       " '10078625,HY267417,05/19/2015 11:47:00 PM,026XX E 77TH ST,2170,NARCOTICS,POSSESSION OF DRUG EQUIPMENT,STREET,true,false,0421,004,7,43,18,1195299,1854463,2015,05/26/2015 12:42:06 PM,41.755552462,-87.559839339,\"(41.755552462, -87.559839339)\"',\n",
       " '10078662,HY267423,05/19/2015 11:46:00 PM,015XX E 62ND ST,051A,ASSAULT,AGGRAVATED: HANDGUN,APARTMENT,false,true,0314,003,5,42,04A,1187377,1864316,2015,05/26/2015 12:42:06 PM,41.782781732,-87.588558362,\"(41.782781732, -87.588558362)\"']"
      ]
     },
     "execution_count": 3,
     "metadata": {},
     "output_type": "execute_result"
    }
   ],
   "source": [
    "crimeFile.take(5)"
   ]
  },
  {
   "cell_type": "code",
   "execution_count": 4,
   "metadata": {
    "collapsed": false
   },
   "outputs": [
    {
     "data": {
      "text/plain": [
       "'ID,Case Number,Date,Block,IUCR,Primary Type,Description,Location Description,Arrest,Domestic,Beat,District,Ward,Community Area,FBI Code,X Coordinate,Y Coordinate,Year,Updated On,Latitude,Longitude,Location'"
      ]
     },
     "execution_count": 4,
     "metadata": {},
     "output_type": "execute_result"
    }
   ],
   "source": [
    "schemaString=crimeFile.first()\n",
    "schemaString"
   ]
  },
  {
   "cell_type": "code",
   "execution_count": 40,
   "metadata": {
    "collapsed": false,
    "scrolled": true
   },
   "outputs": [
    {
     "data": {
      "text/plain": [
       "[['ID',\n",
       "  'Case Number',\n",
       "  'Date',\n",
       "  'Block',\n",
       "  'IUCR',\n",
       "  'Primary Type',\n",
       "  'Description',\n",
       "  'Location Description',\n",
       "  'Arrest',\n",
       "  'Domestic',\n",
       "  'Beat',\n",
       "  'District',\n",
       "  'Ward',\n",
       "  'Community Area',\n",
       "  'FBI Code',\n",
       "  'X Coordinate',\n",
       "  'Y Coordinate',\n",
       "  'Year',\n",
       "  'Updated On',\n",
       "  'Latitude',\n",
       "  'Longitude',\n",
       "  'Location'],\n",
       " ['10078659',\n",
       "  'HY267429',\n",
       "  '05/19/2015 11:57:00 PM',\n",
       "  '010XX E 79TH ST',\n",
       "  '143A',\n",
       "  'WEAPONS VIOLATION',\n",
       "  'UNLAWFUL POSS OF HANDGUN',\n",
       "  'STREET',\n",
       "  'true',\n",
       "  'false',\n",
       "  '0624',\n",
       "  '006',\n",
       "  '8',\n",
       "  '44',\n",
       "  '15',\n",
       "  '1184626',\n",
       "  '1852799',\n",
       "  '2015',\n",
       "  '05/26/2015 12:42:06 PM',\n",
       "  '41.751242944',\n",
       "  '-87.599004724',\n",
       "  '\"(41.751242944',\n",
       "  ' -87.599004724)\"'],\n",
       " ['10078598',\n",
       "  'HY267408',\n",
       "  '05/19/2015 11:50:00 PM',\n",
       "  '067XX N SHERIDAN RD',\n",
       "  '3731',\n",
       "  'INTERFERENCE WITH PUBLIC OFFICER',\n",
       "  'OBSTRUCTING IDENTIFICATION',\n",
       "  'STREET',\n",
       "  'true',\n",
       "  'false',\n",
       "  '2432',\n",
       "  '024',\n",
       "  '49',\n",
       "  '1',\n",
       "  '24',\n",
       "  '1167071',\n",
       "  '1944859',\n",
       "  '2015',\n",
       "  '05/26/2015 12:42:06 PM',\n",
       "  '42.004255918',\n",
       "  '-87.660691083',\n",
       "  '\"(42.004255918',\n",
       "  ' -87.660691083)\"'],\n",
       " ['10078625',\n",
       "  'HY267417',\n",
       "  '05/19/2015 11:47:00 PM',\n",
       "  '026XX E 77TH ST',\n",
       "  '2170',\n",
       "  'NARCOTICS',\n",
       "  'POSSESSION OF DRUG EQUIPMENT',\n",
       "  'STREET',\n",
       "  'true',\n",
       "  'false',\n",
       "  '0421',\n",
       "  '004',\n",
       "  '7',\n",
       "  '43',\n",
       "  '18',\n",
       "  '1195299',\n",
       "  '1854463',\n",
       "  '2015',\n",
       "  '05/26/2015 12:42:06 PM',\n",
       "  '41.755552462',\n",
       "  '-87.559839339',\n",
       "  '\"(41.755552462',\n",
       "  ' -87.559839339)\"'],\n",
       " ['10078662',\n",
       "  'HY267423',\n",
       "  '05/19/2015 11:46:00 PM',\n",
       "  '015XX E 62ND ST',\n",
       "  '051A',\n",
       "  'ASSAULT',\n",
       "  'AGGRAVATED: HANDGUN',\n",
       "  'APARTMENT',\n",
       "  'false',\n",
       "  'true',\n",
       "  '0314',\n",
       "  '003',\n",
       "  '5',\n",
       "  '42',\n",
       "  '04A',\n",
       "  '1187377',\n",
       "  '1864316',\n",
       "  '2015',\n",
       "  '05/26/2015 12:42:06 PM',\n",
       "  '41.782781732',\n",
       "  '-87.588558362',\n",
       "  '\"(41.782781732',\n",
       "  ' -87.588558362)\"']]"
      ]
     },
     "execution_count": 40,
     "metadata": {},
     "output_type": "execute_result"
    }
   ],
   "source": [
    "#remove header\n",
    "#fields = crimeFile.filter(lambda line: line!= schemaString)\n",
    "#split by \",\" to create columns\n",
    "fields = crimeFile.map(lambda line: line.split(\",\"))\n",
    "fields.take(5)"
   ]
  },
  {
   "cell_type": "code",
   "execution_count": 42,
   "metadata": {
    "collapsed": false,
    "scrolled": true
   },
   "outputs": [
    {
     "data": {
      "text/plain": [
       "[['10078659',\n",
       "  'HY267429',\n",
       "  '05/19/2015 11:57:00 PM',\n",
       "  '010XX E 79TH ST',\n",
       "  '143A',\n",
       "  'WEAPONS VIOLATION',\n",
       "  'UNLAWFUL POSS OF HANDGUN',\n",
       "  'STREET',\n",
       "  'true',\n",
       "  'false',\n",
       "  '0624',\n",
       "  '006',\n",
       "  '8',\n",
       "  '44',\n",
       "  '15',\n",
       "  '1184626',\n",
       "  '1852799',\n",
       "  '2015',\n",
       "  '05/26/2015 12:42:06 PM',\n",
       "  '41.751242944',\n",
       "  '-87.599004724',\n",
       "  '\"(41.751242944',\n",
       "  ' -87.599004724)\"'],\n",
       " ['10078598',\n",
       "  'HY267408',\n",
       "  '05/19/2015 11:50:00 PM',\n",
       "  '067XX N SHERIDAN RD',\n",
       "  '3731',\n",
       "  'INTERFERENCE WITH PUBLIC OFFICER',\n",
       "  'OBSTRUCTING IDENTIFICATION',\n",
       "  'STREET',\n",
       "  'true',\n",
       "  'false',\n",
       "  '2432',\n",
       "  '024',\n",
       "  '49',\n",
       "  '1',\n",
       "  '24',\n",
       "  '1167071',\n",
       "  '1944859',\n",
       "  '2015',\n",
       "  '05/26/2015 12:42:06 PM',\n",
       "  '42.004255918',\n",
       "  '-87.660691083',\n",
       "  '\"(42.004255918',\n",
       "  ' -87.660691083)\"'],\n",
       " ['10078625',\n",
       "  'HY267417',\n",
       "  '05/19/2015 11:47:00 PM',\n",
       "  '026XX E 77TH ST',\n",
       "  '2170',\n",
       "  'NARCOTICS',\n",
       "  'POSSESSION OF DRUG EQUIPMENT',\n",
       "  'STREET',\n",
       "  'true',\n",
       "  'false',\n",
       "  '0421',\n",
       "  '004',\n",
       "  '7',\n",
       "  '43',\n",
       "  '18',\n",
       "  '1195299',\n",
       "  '1854463',\n",
       "  '2015',\n",
       "  '05/26/2015 12:42:06 PM',\n",
       "  '41.755552462',\n",
       "  '-87.559839339',\n",
       "  '\"(41.755552462',\n",
       "  ' -87.559839339)\"']]"
      ]
     },
     "execution_count": 42,
     "metadata": {},
     "output_type": "execute_result"
    }
   ],
   "source": [
    "#extract past 5 years data:\n",
    "fields = fields.filter(lambda x: x[17]==\"2011\" or x[17]==\"2012\" or x[17]==\"2013\" or x[17]==\"2014\" or x[17]==\"2015\")\n",
    "fields.take(3)"
   ]
  },
  {
   "cell_type": "code",
   "execution_count": 41,
   "metadata": {
    "collapsed": false,
    "scrolled": true
   },
   "outputs": [
    {
     "data": {
      "text/plain": [
       "[['10078659',\n",
       "  'HY267429',\n",
       "  '05/19/2015 11:57:00 PM',\n",
       "  '010XX E 79TH ST',\n",
       "  '143A',\n",
       "  'WEAPONS VIOLATION',\n",
       "  'UNLAWFUL POSS OF HANDGUN',\n",
       "  'STREET',\n",
       "  'true',\n",
       "  'false',\n",
       "  '0624',\n",
       "  '006',\n",
       "  '8',\n",
       "  '44',\n",
       "  '15',\n",
       "  '1184626',\n",
       "  '1852799',\n",
       "  '2015',\n",
       "  '05/26/2015 12:42:06 PM',\n",
       "  '41.751242944',\n",
       "  '-87.599004724',\n",
       "  '\"(41.751242944',\n",
       "  ' -87.599004724)\"'],\n",
       " ['10078598',\n",
       "  'HY267408',\n",
       "  '05/19/2015 11:50:00 PM',\n",
       "  '067XX N SHERIDAN RD',\n",
       "  '3731',\n",
       "  'INTERFERENCE WITH PUBLIC OFFICER',\n",
       "  'OBSTRUCTING IDENTIFICATION',\n",
       "  'STREET',\n",
       "  'true',\n",
       "  'false',\n",
       "  '2432',\n",
       "  '024',\n",
       "  '49',\n",
       "  '1',\n",
       "  '24',\n",
       "  '1167071',\n",
       "  '1944859',\n",
       "  '2015',\n",
       "  '05/26/2015 12:42:06 PM',\n",
       "  '42.004255918',\n",
       "  '-87.660691083',\n",
       "  '\"(42.004255918',\n",
       "  ' -87.660691083)\"'],\n",
       " ['10078625',\n",
       "  'HY267417',\n",
       "  '05/19/2015 11:47:00 PM',\n",
       "  '026XX E 77TH ST',\n",
       "  '2170',\n",
       "  'NARCOTICS',\n",
       "  'POSSESSION OF DRUG EQUIPMENT',\n",
       "  'STREET',\n",
       "  'true',\n",
       "  'false',\n",
       "  '0421',\n",
       "  '004',\n",
       "  '7',\n",
       "  '43',\n",
       "  '18',\n",
       "  '1195299',\n",
       "  '1854463',\n",
       "  '2015',\n",
       "  '05/26/2015 12:42:06 PM',\n",
       "  '41.755552462',\n",
       "  '-87.559839339',\n",
       "  '\"(41.755552462',\n",
       "  ' -87.559839339)\"']]"
      ]
     },
     "execution_count": 41,
     "metadata": {},
     "output_type": "execute_result"
    }
   ],
   "source": [
    "#filter to keep crime with arrest\n",
    "fields = fields.filter(lambda x: x[8]==\"true\")\n",
    "fields.take(3)"
   ]
  },
  {
   "cell_type": "markdown",
   "metadata": {},
   "source": [
    "## Total number of crimes with arrest by hour of the day"
   ]
  },
  {
   "cell_type": "code",
   "execution_count": 43,
   "metadata": {
    "collapsed": false,
    "scrolled": true
   },
   "outputs": [
    {
     "data": {
      "text/plain": [
       "[(0, 14860),\n",
       " (1, 10850),\n",
       " (2, 8431),\n",
       " (3, 5950),\n",
       " (4, 3872),\n",
       " (5, 2558),\n",
       " (6, 4483),\n",
       " (7, 4996),\n",
       " (8, 7535),\n",
       " (9, 9445),\n",
       " (10, 15383),\n",
       " (11, 19923),\n",
       " (12, 19363),\n",
       " (13, 17999),\n",
       " (14, 18686),\n",
       " (15, 19850),\n",
       " (16, 18844),\n",
       " (17, 17401),\n",
       " (18, 21365),\n",
       " (19, 28558),\n",
       " (20, 26586),\n",
       " (21, 24559),\n",
       " (22, 23305),\n",
       " (23, 19155)]"
      ]
     },
     "execution_count": 43,
     "metadata": {},
     "output_type": "execute_result"
    }
   ],
   "source": [
    "#key value pair of (hour of the day, crime)\n",
    "pairs=fields.map(lambda x: (datetime.strptime(x[2],'%m/%d/%Y %I:%M:%S %p').time().hour, 1))\n",
    "#pairs.take(3)\n",
    "counts = pairs.reduceByKey(lambda x,y: int(x) + int(y))\n",
    "counts.take(24)"
   ]
  },
  {
   "cell_type": "code",
   "execution_count": 44,
   "metadata": {
    "collapsed": false
   },
   "outputs": [
    {
     "data": {
      "text/plain": [
       "[[0, 14860], [1, 10850], [2, 8431]]"
      ]
     },
     "execution_count": 44,
     "metadata": {},
     "output_type": "execute_result"
    }
   ],
   "source": [
    "#re-arrange and convert back to dataframe\n",
    "toDF=counts.map(lambda x: [x[0],x[1]])\n",
    "toDF.take(3)"
   ]
  },
  {
   "cell_type": "code",
   "execution_count": 45,
   "metadata": {
    "collapsed": true
   },
   "outputs": [],
   "source": [
    "def build_schema():\n",
    "    \"\"\"Build and return a schema to use for the sample data.\"\"\"\n",
    "    schema = StructType(\n",
    "        [\n",
    "            StructField(\"hourOfDay\", StringType(), True),\n",
    "            StructField(\"numOfCrime\", IntegerType(), True),\n",
    "        ]\n",
    "    )\n",
    "    return schema"
   ]
  },
  {
   "cell_type": "code",
   "execution_count": 46,
   "metadata": {
    "collapsed": false,
    "scrolled": false
   },
   "outputs": [
    {
     "data": {
      "text/html": [
       "<div>\n",
       "<table border=\"1\" class=\"dataframe\">\n",
       "  <thead>\n",
       "    <tr style=\"text-align: right;\">\n",
       "      <th></th>\n",
       "      <th>hourOfDay</th>\n",
       "      <th>numOfCrime</th>\n",
       "    </tr>\n",
       "  </thead>\n",
       "  <tbody>\n",
       "    <tr>\n",
       "      <th>0</th>\n",
       "      <td>0</td>\n",
       "      <td>14860</td>\n",
       "    </tr>\n",
       "    <tr>\n",
       "      <th>1</th>\n",
       "      <td>1</td>\n",
       "      <td>10850</td>\n",
       "    </tr>\n",
       "    <tr>\n",
       "      <th>2</th>\n",
       "      <td>2</td>\n",
       "      <td>8431</td>\n",
       "    </tr>\n",
       "    <tr>\n",
       "      <th>3</th>\n",
       "      <td>3</td>\n",
       "      <td>5950</td>\n",
       "    </tr>\n",
       "    <tr>\n",
       "      <th>4</th>\n",
       "      <td>4</td>\n",
       "      <td>3872</td>\n",
       "    </tr>\n",
       "    <tr>\n",
       "      <th>5</th>\n",
       "      <td>5</td>\n",
       "      <td>2558</td>\n",
       "    </tr>\n",
       "    <tr>\n",
       "      <th>6</th>\n",
       "      <td>6</td>\n",
       "      <td>4483</td>\n",
       "    </tr>\n",
       "    <tr>\n",
       "      <th>7</th>\n",
       "      <td>7</td>\n",
       "      <td>4996</td>\n",
       "    </tr>\n",
       "    <tr>\n",
       "      <th>8</th>\n",
       "      <td>8</td>\n",
       "      <td>7535</td>\n",
       "    </tr>\n",
       "    <tr>\n",
       "      <th>9</th>\n",
       "      <td>9</td>\n",
       "      <td>9445</td>\n",
       "    </tr>\n",
       "    <tr>\n",
       "      <th>10</th>\n",
       "      <td>10</td>\n",
       "      <td>15383</td>\n",
       "    </tr>\n",
       "    <tr>\n",
       "      <th>11</th>\n",
       "      <td>11</td>\n",
       "      <td>19923</td>\n",
       "    </tr>\n",
       "    <tr>\n",
       "      <th>12</th>\n",
       "      <td>12</td>\n",
       "      <td>19363</td>\n",
       "    </tr>\n",
       "    <tr>\n",
       "      <th>13</th>\n",
       "      <td>13</td>\n",
       "      <td>17999</td>\n",
       "    </tr>\n",
       "    <tr>\n",
       "      <th>14</th>\n",
       "      <td>14</td>\n",
       "      <td>18686</td>\n",
       "    </tr>\n",
       "    <tr>\n",
       "      <th>15</th>\n",
       "      <td>15</td>\n",
       "      <td>19850</td>\n",
       "    </tr>\n",
       "    <tr>\n",
       "      <th>16</th>\n",
       "      <td>16</td>\n",
       "      <td>18844</td>\n",
       "    </tr>\n",
       "    <tr>\n",
       "      <th>17</th>\n",
       "      <td>17</td>\n",
       "      <td>17401</td>\n",
       "    </tr>\n",
       "    <tr>\n",
       "      <th>18</th>\n",
       "      <td>18</td>\n",
       "      <td>21365</td>\n",
       "    </tr>\n",
       "    <tr>\n",
       "      <th>19</th>\n",
       "      <td>19</td>\n",
       "      <td>28558</td>\n",
       "    </tr>\n",
       "    <tr>\n",
       "      <th>20</th>\n",
       "      <td>20</td>\n",
       "      <td>26586</td>\n",
       "    </tr>\n",
       "    <tr>\n",
       "      <th>21</th>\n",
       "      <td>21</td>\n",
       "      <td>24559</td>\n",
       "    </tr>\n",
       "    <tr>\n",
       "      <th>22</th>\n",
       "      <td>22</td>\n",
       "      <td>23305</td>\n",
       "    </tr>\n",
       "    <tr>\n",
       "      <th>23</th>\n",
       "      <td>23</td>\n",
       "      <td>19155</td>\n",
       "    </tr>\n",
       "  </tbody>\n",
       "</table>\n",
       "</div>"
      ],
      "text/plain": [
       "   hourOfDay  numOfCrime\n",
       "0          0       14860\n",
       "1          1       10850\n",
       "2          2        8431\n",
       "3          3        5950\n",
       "4          4        3872\n",
       "5          5        2558\n",
       "6          6        4483\n",
       "7          7        4996\n",
       "8          8        7535\n",
       "9          9        9445\n",
       "10        10       15383\n",
       "11        11       19923\n",
       "12        12       19363\n",
       "13        13       17999\n",
       "14        14       18686\n",
       "15        15       19850\n",
       "16        16       18844\n",
       "17        17       17401\n",
       "18        18       21365\n",
       "19        19       28558\n",
       "20        20       26586\n",
       "21        21       24559\n",
       "22        22       23305\n",
       "23        23       19155"
      ]
     },
     "execution_count": 46,
     "metadata": {},
     "output_type": "execute_result"
    }
   ],
   "source": [
    "#convert to spark dataframe than to pandas dataframe for visualization\n",
    "#convert to spark dataframe\n",
    "countsDF = spark.createDataFrame(toDF, schema=build_schema())\n",
    "#countsDF.printSchema()\n",
    "#countsDF.show(3)\n",
    "#convert from spark dataframe to pandas dataframe\n",
    "countsDF=countsDF.toPandas()\n",
    "countsDF"
   ]
  },
  {
   "cell_type": "code",
   "execution_count": 61,
   "metadata": {
    "collapsed": false
   },
   "outputs": [
    {
     "data": {
      "image/png": "[encoded data removed]",
      "text/plain": [
       "<matplotlib.figure.Figure at 0x115b38588>"
      ]
     },
     "metadata": {},
     "output_type": "display_data"
    }
   ],
   "source": [
    "#plot bar chart \n",
    "hours = countsDF['hourOfDay'].tolist()\n",
    "y_pos = np.arange(len(hours))\n",
    "crimes = countsDF['numOfCrime'].tolist()\n",
    " \n",
    "plt.bar(y_pos, crimes, align='center', alpha=0.5)\n",
    "plt.xticks(y_pos, hours)\n",
    "plt.ylabel('Crimes')\n",
    "plt.title('Num of Crimes with Arrest by Hour of a Day')\n",
    " \n",
    "plt.show()"
   ]
  },
  {
   "cell_type": "markdown",
   "metadata": {},
   "source": [
    "Number of crimes with arrest reach a peak at around 7pm at night and stay high thru 10pm, while the lowest point in a day is at 5am in the morning. "
   ]
  },
  {
   "cell_type": "markdown",
   "metadata": {
    "collapsed": true
   },
   "source": [
    "## Total number of crimes with arrest by day of the week"
   ]
  },
  {
   "cell_type": "code",
   "execution_count": 47,
   "metadata": {
    "collapsed": false
   },
   "outputs": [
    {
     "data": {
      "text/plain": [
       "[(0, 49736),\n",
       " (1, 52353),\n",
       " (2, 52982),\n",
       " (3, 52179),\n",
       " (4, 54161),\n",
       " (5, 53220),\n",
       " (6, 49326)]"
      ]
     },
     "execution_count": 47,
     "metadata": {},
     "output_type": "execute_result"
    }
   ],
   "source": [
    "#key value pair of (day of the week, crime)\n",
    "#Monday is 0 and Sunday is 6\n",
    "pairs2=fields.map(lambda x: (datetime.strptime(x[2],'%m/%d/%Y %I:%M:%S %p').date().weekday(), 1))\n",
    "#pairs2.take(3)\n",
    "counts2 = pairs2.reduceByKey(lambda x,y: int(x) + int(y))\n",
    "counts2.take(7)"
   ]
  },
  {
   "cell_type": "code",
   "execution_count": 48,
   "metadata": {
    "collapsed": false
   },
   "outputs": [
    {
     "data": {
      "text/plain": [
       "[[0, 49736], [1, 52353], [2, 52982]]"
      ]
     },
     "execution_count": 48,
     "metadata": {},
     "output_type": "execute_result"
    }
   ],
   "source": [
    "#re-arrange and convert back to dataframe\n",
    "toDF2=counts2.map(lambda x: [x[0],x[1]])\n",
    "toDF2.take(3)"
   ]
  },
  {
   "cell_type": "code",
   "execution_count": 49,
   "metadata": {
    "collapsed": true
   },
   "outputs": [],
   "source": [
    "def build_schema2():\n",
    "    \"\"\"Build and return a schema to use for the sample data.\"\"\"\n",
    "    schema = StructType(\n",
    "        [\n",
    "            StructField(\"dayOfWeek\", StringType(), True),\n",
    "            StructField(\"numOfCrime\", IntegerType(), True),\n",
    "        ]\n",
    "    )\n",
    "    return schema"
   ]
  },
  {
   "cell_type": "code",
   "execution_count": 50,
   "metadata": {
    "collapsed": false
   },
   "outputs": [
    {
     "data": {
      "text/html": [
       "<div>\n",
       "<table border=\"1\" class=\"dataframe\">\n",
       "  <thead>\n",
       "    <tr style=\"text-align: right;\">\n",
       "      <th></th>\n",
       "      <th>dayOfWeek</th>\n",
       "      <th>numOfCrime</th>\n",
       "    </tr>\n",
       "  </thead>\n",
       "  <tbody>\n",
       "    <tr>\n",
       "      <th>0</th>\n",
       "      <td>0</td>\n",
       "      <td>49736</td>\n",
       "    </tr>\n",
       "    <tr>\n",
       "      <th>1</th>\n",
       "      <td>1</td>\n",
       "      <td>52353</td>\n",
       "    </tr>\n",
       "    <tr>\n",
       "      <th>2</th>\n",
       "      <td>2</td>\n",
       "      <td>52982</td>\n",
       "    </tr>\n",
       "    <tr>\n",
       "      <th>3</th>\n",
       "      <td>3</td>\n",
       "      <td>52179</td>\n",
       "    </tr>\n",
       "    <tr>\n",
       "      <th>4</th>\n",
       "      <td>4</td>\n",
       "      <td>54161</td>\n",
       "    </tr>\n",
       "    <tr>\n",
       "      <th>5</th>\n",
       "      <td>5</td>\n",
       "      <td>53220</td>\n",
       "    </tr>\n",
       "    <tr>\n",
       "      <th>6</th>\n",
       "      <td>6</td>\n",
       "      <td>49326</td>\n",
       "    </tr>\n",
       "  </tbody>\n",
       "</table>\n",
       "</div>"
      ],
      "text/plain": [
       "  dayOfWeek  numOfCrime\n",
       "0         0       49736\n",
       "1         1       52353\n",
       "2         2       52982\n",
       "3         3       52179\n",
       "4         4       54161\n",
       "5         5       53220\n",
       "6         6       49326"
      ]
     },
     "execution_count": 50,
     "metadata": {},
     "output_type": "execute_result"
    }
   ],
   "source": [
    "#convert to spark dataframe than to pandas dataframe for visualization\n",
    "#convert to spark dataframe\n",
    "countsDF2 = spark.createDataFrame(toDF2, schema=build_schema2())\n",
    "#countsDF2.printSchema()\n",
    "#countsDF2.show(3)\n",
    "#convert from spark dataframe to pandas dataframe\n",
    "countsDF2=countsDF2.toPandas()\n",
    "countsDF2"
   ]
  },
  {
   "cell_type": "code",
   "execution_count": 60,
   "metadata": {
    "collapsed": false
   },
   "outputs": [
    {
     "data": {
      "image/png": "[encoded data removed]",
      "text/plain": [
       "<matplotlib.figure.Figure at 0x1127244e0>"
      ]
     },
     "metadata": {},
     "output_type": "display_data"
    }
   ],
   "source": [
    "#plot bar chart \n",
    "weekdays = ('Mon', 'Tue', 'Wed', 'Thu', 'Fri', 'Sat','Sun')\n",
    "y_pos = np.arange(len(weekdays))\n",
    "crimes = countsDF2['numOfCrime'].tolist()\n",
    " \n",
    "plt.bar(y_pos, crimes, align='center', alpha=0.5)\n",
    "plt.xticks(y_pos, weekdays)\n",
    "plt.ylabel('Crimes')\n",
    "plt.title('Num of Crimes with Arrest by Day of the Week')\n",
    " \n",
    "plt.show()"
   ]
  },
  {
   "cell_type": "markdown",
   "metadata": {},
   "source": [
    "Total number of crimes with arrest during a week is pretty flat with small increase on Fridays and Saturdays, when people go outdoors more. "
   ]
  },
  {
   "cell_type": "markdown",
   "metadata": {},
   "source": [
    "# Total number of crimes by day of the week"
   ]
  },
  {
   "cell_type": "code",
   "execution_count": 51,
   "metadata": {
    "collapsed": false
   },
   "outputs": [
    {
     "data": {
      "text/plain": [
       "[(1, 32916),\n",
       " (2, 29928),\n",
       " (3, 35665),\n",
       " (4, 33831),\n",
       " (5, 33242),\n",
       " (6, 30354),\n",
       " (7, 32005)]"
      ]
     },
     "execution_count": 51,
     "metadata": {},
     "output_type": "execute_result"
    }
   ],
   "source": [
    "#key value pair of (day of the week, crime)\n",
    "#Monday is 0 and Sunday is 6\n",
    "pairs3=fields.map(lambda x: (datetime.strptime(x[2],'%m/%d/%Y %I:%M:%S %p').date().month, 1))\n",
    "#pairs3.take(3)\n",
    "counts3 = pairs3.reduceByKey(lambda x,y: int(x) + int(y))\n",
    "counts3.take(7)"
   ]
  },
  {
   "cell_type": "code",
   "execution_count": 52,
   "metadata": {
    "collapsed": false
   },
   "outputs": [
    {
     "data": {
      "text/plain": [
       "[[1, 32916], [2, 29928], [3, 35665]]"
      ]
     },
     "execution_count": 52,
     "metadata": {},
     "output_type": "execute_result"
    }
   ],
   "source": [
    "#re-arrange and convert back to dataframe\n",
    "toDF3=counts3.map(lambda x: [x[0],x[1]])\n",
    "toDF3.take(3)"
   ]
  },
  {
   "cell_type": "code",
   "execution_count": 53,
   "metadata": {
    "collapsed": true
   },
   "outputs": [],
   "source": [
    "def build_schema3():\n",
    "    \"\"\"Build and return a schema to use for the sample data.\"\"\"\n",
    "    schema = StructType(\n",
    "        [\n",
    "            StructField(\"monthOfYear\", StringType(), True),\n",
    "            StructField(\"numOfCrime\", IntegerType(), True),\n",
    "        ]\n",
    "    )\n",
    "    return schema"
   ]
  },
  {
   "cell_type": "code",
   "execution_count": 54,
   "metadata": {
    "collapsed": false
   },
   "outputs": [
    {
     "data": {
      "text/html": [
       "<div>\n",
       "<table border=\"1\" class=\"dataframe\">\n",
       "  <thead>\n",
       "    <tr style=\"text-align: right;\">\n",
       "      <th></th>\n",
       "      <th>monthOfYear</th>\n",
       "      <th>numOfCrime</th>\n",
       "    </tr>\n",
       "  </thead>\n",
       "  <tbody>\n",
       "    <tr>\n",
       "      <th>0</th>\n",
       "      <td>1</td>\n",
       "      <td>32916</td>\n",
       "    </tr>\n",
       "    <tr>\n",
       "      <th>1</th>\n",
       "      <td>2</td>\n",
       "      <td>29928</td>\n",
       "    </tr>\n",
       "    <tr>\n",
       "      <th>2</th>\n",
       "      <td>3</td>\n",
       "      <td>35665</td>\n",
       "    </tr>\n",
       "    <tr>\n",
       "      <th>3</th>\n",
       "      <td>4</td>\n",
       "      <td>33831</td>\n",
       "    </tr>\n",
       "    <tr>\n",
       "      <th>4</th>\n",
       "      <td>5</td>\n",
       "      <td>33242</td>\n",
       "    </tr>\n",
       "    <tr>\n",
       "      <th>5</th>\n",
       "      <td>6</td>\n",
       "      <td>30354</td>\n",
       "    </tr>\n",
       "    <tr>\n",
       "      <th>6</th>\n",
       "      <td>7</td>\n",
       "      <td>32005</td>\n",
       "    </tr>\n",
       "    <tr>\n",
       "      <th>7</th>\n",
       "      <td>8</td>\n",
       "      <td>31259</td>\n",
       "    </tr>\n",
       "    <tr>\n",
       "      <th>8</th>\n",
       "      <td>9</td>\n",
       "      <td>28264</td>\n",
       "    </tr>\n",
       "    <tr>\n",
       "      <th>9</th>\n",
       "      <td>10</td>\n",
       "      <td>27458</td>\n",
       "    </tr>\n",
       "    <tr>\n",
       "      <th>10</th>\n",
       "      <td>11</td>\n",
       "      <td>25175</td>\n",
       "    </tr>\n",
       "    <tr>\n",
       "      <th>11</th>\n",
       "      <td>12</td>\n",
       "      <td>23860</td>\n",
       "    </tr>\n",
       "  </tbody>\n",
       "</table>\n",
       "</div>"
      ],
      "text/plain": [
       "   monthOfYear  numOfCrime\n",
       "0            1       32916\n",
       "1            2       29928\n",
       "2            3       35665\n",
       "3            4       33831\n",
       "4            5       33242\n",
       "5            6       30354\n",
       "6            7       32005\n",
       "7            8       31259\n",
       "8            9       28264\n",
       "9           10       27458\n",
       "10          11       25175\n",
       "11          12       23860"
      ]
     },
     "execution_count": 54,
     "metadata": {},
     "output_type": "execute_result"
    }
   ],
   "source": [
    "#convert to spark dataframe than to pandas dataframe for visualization\n",
    "#convert to spark dataframe\n",
    "countsDF3 = spark.createDataFrame(toDF3, schema=build_schema3())\n",
    "#countsDF3.printSchema()\n",
    "#countsDF3.show(3)\n",
    "#convert from spark dataframe to pandas dataframe\n",
    "countsDF3=countsDF3.toPandas()\n",
    "countsDF3"
   ]
  },
  {
   "cell_type": "code",
   "execution_count": 59,
   "metadata": {
    "collapsed": false
   },
   "outputs": [
    {
     "data": {
      "image/png": "[encoded data removed]",
      "text/plain": [
       "<matplotlib.figure.Figure at 0x11324f2b0>"
      ]
     },
     "metadata": {},
     "output_type": "display_data"
    }
   ],
   "source": [
    "#plot bar chart \n",
    "months = ('Jan', 'Feb', 'Mar', 'Apr', 'May', 'Jun','Jul', 'Aug', 'Sep', 'Oct', 'Nov', 'Dec')\n",
    "y_pos = np.arange(len(months))\n",
    "crimes = countsDF3['numOfCrime'].tolist()\n",
    " \n",
    "plt.bar(y_pos, crimes, align='center', alpha=0.5)\n",
    "plt.xticks(y_pos, months)\n",
    "plt.ylabel('Crimes')\n",
    "plt.title('Num of Crimes with Arrest by Month')\n",
    " \n",
    "plt.show()"
   ]
  },
  {
   "cell_type": "markdown",
   "metadata": {},
   "source": [
    "Total number of crimes with arrest peaks in March and remain high throughout the spring season, while crime numbers start dropping from September in the fall, and dive into lowest point in the winter in December. It could be both the cold weather in Chicago and holiday season that suppress people's will to commit crime. "
   ]
  }
 ],
 "metadata": {
  "anaconda-cloud": {},
  "kernelspec": {
   "display_name": "Python [conda root]",
   "language": "python",
   "name": "conda-root-py"
  },
  "language_info": {
   "codemirror_mode": {
    "name": "ipython",
    "version": 3
   },
   "file_extension": ".py",
   "mimetype": "text/x-python",
   "name": "python",
   "nbconvert_exporter": "python",
   "pygments_lexer": "ipython3",
   "version": "3.5.2"
  }
 },
 "nbformat": 4,
 "nbformat_minor": 1
}
