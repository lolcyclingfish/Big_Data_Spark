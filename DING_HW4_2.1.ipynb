{
 "cells": [
  {
   "cell_type": "markdown",
   "metadata": {},
   "source": [
    "Plan:\n",
    "1. read in data and split by \",\"\n",
    "2. filter and extract year and block columns from year 2012 - 2015\n",
    "3. create key, value pair: block, 1 (1 is to count the crime record once)\n",
    "4. reduceByKey using key block, to reduce to block, count(crime)\n",
    "5. sortByKey using key count(crime), then take top 10 records\n",
    "\n",
    "ref:\n",
    "https://www.nodalpoint.com/spark-data-frames-from-csv-files-handling-headers-column-types/"
   ]
  },
  {
   "cell_type": "code",
   "execution_count": 1,
   "metadata": {
    "collapsed": false
   },
   "outputs": [],
   "source": [
    "#from pyspark import SparkContext\n",
    "from pyspark import SparkContext\n",
    "import csv\n",
    "from operator import add\n",
    "#from pyspark.sql import SQLContext\n",
    "\n",
    "\n"
   ]
  },
  {
   "cell_type": "code",
   "execution_count": 1,
   "metadata": {
    "collapsed": true
   },
   "outputs": [],
   "source": [
    "sc = SparkContext.getOrCreate()"
   ]
  },
  {
   "cell_type": "code",
   "execution_count": 12,
   "metadata": {
    "collapsed": true
   },
   "outputs": [],
   "source": [
    "#use when done with current pyspark context\n",
    "sc.stop()"
   ]
  },
  {
   "cell_type": "code",
   "execution_count": 2,
   "metadata": {
    "collapsed": true
   },
   "outputs": [],
   "source": [
    "crimeFile = sc.textFile(\"Crimes_-_2001_to_present.csv\")\n"
   ]
  },
  {
   "cell_type": "code",
   "execution_count": 4,
   "metadata": {
    "collapsed": false
   },
   "outputs": [
    {
     "data": {
      "text/plain": [
       "5801845"
      ]
     },
     "execution_count": 4,
     "metadata": {},
     "output_type": "execute_result"
    }
   ],
   "source": [
    "crimeFile.count()"
   ]
  },
  {
   "cell_type": "code",
   "execution_count": 3,
   "metadata": {
    "collapsed": false
   },
   "outputs": [
    {
     "data": {
      "text/plain": [
       "['ID,Case Number,Date,Block,IUCR,Primary Type,Description,Location Description,Arrest,Domestic,Beat,District,Ward,Community Area,FBI Code,X Coordinate,Y Coordinate,Year,Updated On,Latitude,Longitude,Location',\n",
       " '10078659,HY267429,05/19/2015 11:57:00 PM,010XX E 79TH ST,143A,WEAPONS VIOLATION,UNLAWFUL POSS OF HANDGUN,STREET,true,false,0624,006,8,44,15,1184626,1852799,2015,05/26/2015 12:42:06 PM,41.751242944,-87.599004724,\"(41.751242944, -87.599004724)\"',\n",
       " '10078598,HY267408,05/19/2015 11:50:00 PM,067XX N SHERIDAN RD,3731,INTERFERENCE WITH PUBLIC OFFICER,OBSTRUCTING IDENTIFICATION,STREET,true,false,2432,024,49,1,24,1167071,1944859,2015,05/26/2015 12:42:06 PM,42.004255918,-87.660691083,\"(42.004255918, -87.660691083)\"',\n",
       " '10078625,HY267417,05/19/2015 11:47:00 PM,026XX E 77TH ST,2170,NARCOTICS,POSSESSION OF DRUG EQUIPMENT,STREET,true,false,0421,004,7,43,18,1195299,1854463,2015,05/26/2015 12:42:06 PM,41.755552462,-87.559839339,\"(41.755552462, -87.559839339)\"',\n",
       " '10078662,HY267423,05/19/2015 11:46:00 PM,015XX E 62ND ST,051A,ASSAULT,AGGRAVATED: HANDGUN,APARTMENT,false,true,0314,003,5,42,04A,1187377,1864316,2015,05/26/2015 12:42:06 PM,41.782781732,-87.588558362,\"(41.782781732, -87.588558362)\"']"
      ]
     },
     "execution_count": 3,
     "metadata": {},
     "output_type": "execute_result"
    }
   ],
   "source": [
    "crimeFile.take(5)"
   ]
  },
  {
   "cell_type": "code",
   "execution_count": 7,
   "metadata": {
    "collapsed": false
   },
   "outputs": [
    {
     "data": {
      "text/plain": [
       "'ID,Case Number,Date,Block,IUCR,Primary Type,Description,Location Description,Arrest,Domestic,Beat,District,Ward,Community Area,FBI Code,X Coordinate,Y Coordinate,Year,Updated On,Latitude,Longitude,Location'"
      ]
     },
     "execution_count": 7,
     "metadata": {},
     "output_type": "execute_result"
    }
   ],
   "source": [
    "schemaString=crimeFile.first()\n",
    "schemaString"
   ]
  },
  {
   "cell_type": "code",
   "execution_count": 8,
   "metadata": {
    "collapsed": false
   },
   "outputs": [
    {
     "data": {
      "text/plain": [
       "[['ID',\n",
       "  'Case Number',\n",
       "  'Date',\n",
       "  'Block',\n",
       "  'IUCR',\n",
       "  'Primary Type',\n",
       "  'Description',\n",
       "  'Location Description',\n",
       "  'Arrest',\n",
       "  'Domestic',\n",
       "  'Beat',\n",
       "  'District',\n",
       "  'Ward',\n",
       "  'Community Area',\n",
       "  'FBI Code',\n",
       "  'X Coordinate',\n",
       "  'Y Coordinate',\n",
       "  'Year',\n",
       "  'Updated On',\n",
       "  'Latitude',\n",
       "  'Longitude',\n",
       "  'Location'],\n",
       " ['10078659',\n",
       "  'HY267429',\n",
       "  '05/19/2015 11:57:00 PM',\n",
       "  '010XX E 79TH ST',\n",
       "  '143A',\n",
       "  'WEAPONS VIOLATION',\n",
       "  'UNLAWFUL POSS OF HANDGUN',\n",
       "  'STREET',\n",
       "  'true',\n",
       "  'false',\n",
       "  '0624',\n",
       "  '006',\n",
       "  '8',\n",
       "  '44',\n",
       "  '15',\n",
       "  '1184626',\n",
       "  '1852799',\n",
       "  '2015',\n",
       "  '05/26/2015 12:42:06 PM',\n",
       "  '41.751242944',\n",
       "  '-87.599004724',\n",
       "  '\"(41.751242944',\n",
       "  ' -87.599004724)\"'],\n",
       " ['10078598',\n",
       "  'HY267408',\n",
       "  '05/19/2015 11:50:00 PM',\n",
       "  '067XX N SHERIDAN RD',\n",
       "  '3731',\n",
       "  'INTERFERENCE WITH PUBLIC OFFICER',\n",
       "  'OBSTRUCTING IDENTIFICATION',\n",
       "  'STREET',\n",
       "  'true',\n",
       "  'false',\n",
       "  '2432',\n",
       "  '024',\n",
       "  '49',\n",
       "  '1',\n",
       "  '24',\n",
       "  '1167071',\n",
       "  '1944859',\n",
       "  '2015',\n",
       "  '05/26/2015 12:42:06 PM',\n",
       "  '42.004255918',\n",
       "  '-87.660691083',\n",
       "  '\"(42.004255918',\n",
       "  ' -87.660691083)\"'],\n",
       " ['10078625',\n",
       "  'HY267417',\n",
       "  '05/19/2015 11:47:00 PM',\n",
       "  '026XX E 77TH ST',\n",
       "  '2170',\n",
       "  'NARCOTICS',\n",
       "  'POSSESSION OF DRUG EQUIPMENT',\n",
       "  'STREET',\n",
       "  'true',\n",
       "  'false',\n",
       "  '0421',\n",
       "  '004',\n",
       "  '7',\n",
       "  '43',\n",
       "  '18',\n",
       "  '1195299',\n",
       "  '1854463',\n",
       "  '2015',\n",
       "  '05/26/2015 12:42:06 PM',\n",
       "  '41.755552462',\n",
       "  '-87.559839339',\n",
       "  '\"(41.755552462',\n",
       "  ' -87.559839339)\"'],\n",
       " ['10078662',\n",
       "  'HY267423',\n",
       "  '05/19/2015 11:46:00 PM',\n",
       "  '015XX E 62ND ST',\n",
       "  '051A',\n",
       "  'ASSAULT',\n",
       "  'AGGRAVATED: HANDGUN',\n",
       "  'APARTMENT',\n",
       "  'false',\n",
       "  'true',\n",
       "  '0314',\n",
       "  '003',\n",
       "  '5',\n",
       "  '42',\n",
       "  '04A',\n",
       "  '1187377',\n",
       "  '1864316',\n",
       "  '2015',\n",
       "  '05/26/2015 12:42:06 PM',\n",
       "  '41.782781732',\n",
       "  '-87.588558362',\n",
       "  '\"(41.782781732',\n",
       "  ' -87.588558362)\"'],\n",
       " ['10078584',\n",
       "  'HY267397',\n",
       "  '05/19/2015 11:45:00 PM',\n",
       "  '054XX S PRINCETON AVE',\n",
       "  '4625',\n",
       "  'OTHER OFFENSE',\n",
       "  'PAROLE VIOLATION',\n",
       "  'GAS STATION',\n",
       "  'true',\n",
       "  'false',\n",
       "  '0935',\n",
       "  '009',\n",
       "  '3',\n",
       "  '37',\n",
       "  '26',\n",
       "  '1175180',\n",
       "  '1868551',\n",
       "  '2015',\n",
       "  '05/26/2015 12:42:06 PM',\n",
       "  '41.794684214',\n",
       "  '-87.633149481',\n",
       "  '\"(41.794684214',\n",
       "  ' -87.633149481)\"'],\n",
       " ['10078629',\n",
       "  'HY267393',\n",
       "  '05/19/2015 11:40:00 PM',\n",
       "  '013XX S LAWNDALE AVE',\n",
       "  '0454',\n",
       "  'BATTERY',\n",
       "  'AGG PO HANDS NO/MIN INJURY',\n",
       "  'STREET',\n",
       "  'true',\n",
       "  'false',\n",
       "  '1011',\n",
       "  '010',\n",
       "  '24',\n",
       "  '29',\n",
       "  '08B',\n",
       "  '1151957',\n",
       "  '1893696',\n",
       "  '2015',\n",
       "  '05/26/2015 12:42:06 PM',\n",
       "  '41.864172884',\n",
       "  '-87.717647622',\n",
       "  '\"(41.864172884',\n",
       "  ' -87.717647622)\"'],\n",
       " ['10079225',\n",
       "  'HY267395',\n",
       "  '05/19/2015 11:30:00 PM',\n",
       "  '064XX S LAFLIN ST',\n",
       "  '0497',\n",
       "  'BATTERY',\n",
       "  'AGGRAVATED DOMESTIC BATTERY: OTHER DANG WEAPON',\n",
       "  'APARTMENT',\n",
       "  'false',\n",
       "  'true',\n",
       "  '0725',\n",
       "  '007',\n",
       "  '17',\n",
       "  '67',\n",
       "  '04B',\n",
       "  '1167397',\n",
       "  '1862229',\n",
       "  '2015',\n",
       "  '05/26/2015 12:42:06 PM',\n",
       "  '41.777506284',\n",
       "  '-87.661870632',\n",
       "  '\"(41.777506284',\n",
       "  ' -87.661870632)\"'],\n",
       " ['10078594',\n",
       "  'HY267388',\n",
       "  '05/19/2015 11:30:00 PM',\n",
       "  '021XX W NORTH AVE',\n",
       "  '1305',\n",
       "  'CRIMINAL DAMAGE',\n",
       "  'CRIMINAL DEFACEMENT',\n",
       "  'SIDEWALK',\n",
       "  'true',\n",
       "  'false',\n",
       "  '1434',\n",
       "  '014',\n",
       "  '32',\n",
       "  '24',\n",
       "  '14',\n",
       "  '1162022',\n",
       "  '1910669',\n",
       "  '2015',\n",
       "  '05/26/2015 12:42:06 PM',\n",
       "  '41.9105442',\n",
       "  '-87.680225036',\n",
       "  '\"(41.9105442',\n",
       "  ' -87.680225036)\"'],\n",
       " ['10080768',\n",
       "  'HY269123',\n",
       "  '05/19/2015 11:30:00 PM',\n",
       "  '008XX N KILDARE AVE',\n",
       "  '0820',\n",
       "  'THEFT',\n",
       "  '$500 AND UNDER',\n",
       "  'RESIDENCE',\n",
       "  'false',\n",
       "  'false',\n",
       "  '1111',\n",
       "  '011',\n",
       "  '37',\n",
       "  '23',\n",
       "  '06',\n",
       "  '1147592',\n",
       "  '1905491',\n",
       "  '2015',\n",
       "  '05/26/2015 12:42:06 PM',\n",
       "  '41.896624505',\n",
       "  '-87.733368852',\n",
       "  '\"(41.896624505',\n",
       "  ' -87.733368852)\"']]"
      ]
     },
     "execution_count": 8,
     "metadata": {},
     "output_type": "execute_result"
    }
   ],
   "source": [
    "#split by \",\" to create columns\n",
    "fields = crimeFile.map(lambda line: line.split(\",\"))\n",
    "fields.take(10)"
   ]
  },
  {
   "cell_type": "code",
   "execution_count": 10,
   "metadata": {
    "collapsed": false
   },
   "outputs": [
    {
     "data": {
      "text/plain": [
       "5801843"
      ]
     },
     "execution_count": 10,
     "metadata": {},
     "output_type": "execute_result"
    }
   ],
   "source": [
    "#remove rows where block name is empty\n",
    "fields = fields.filter(lambda x: len(x[3])>0) \n",
    "fields.count()"
   ]
  },
  {
   "cell_type": "code",
   "execution_count": 9,
   "metadata": {
    "collapsed": false
   },
   "outputs": [
    {
     "data": {
      "text/plain": [
       "[('Block', 'Year'),\n",
       " ('010XX E 79TH ST', '2015'),\n",
       " ('067XX N SHERIDAN RD', '2015'),\n",
       " ('026XX E 77TH ST', '2015'),\n",
       " ('015XX E 62ND ST', '2015'),\n",
       " ('054XX S PRINCETON AVE', '2015'),\n",
       " ('013XX S LAWNDALE AVE', '2015'),\n",
       " ('064XX S LAFLIN ST', '2015'),\n",
       " ('021XX W NORTH AVE', '2015'),\n",
       " ('008XX N KILDARE AVE', '2015')]"
      ]
     },
     "execution_count": 9,
     "metadata": {},
     "output_type": "execute_result"
    }
   ],
   "source": [
    "#select columns 2: date,3: Block, 18: year\n",
    "fields2 = fields.map(lambda f: (f[3], f[17]))\n",
    "fields2.take(10)"
   ]
  },
  {
   "cell_type": "code",
   "execution_count": 36,
   "metadata": {
    "collapsed": false
   },
   "outputs": [
    {
     "data": {
      "text/plain": [
       "[('002XX N FRANCISCO AVE', 9),\n",
       " ('004XX N TRUMBULL AVE', 17),\n",
       " ('033XX N PITTSBURGH AVE', 7),\n",
       " ('032XX W 31ST ST', 4),\n",
       " ('057XX W CHICAGO AVE', 65),\n",
       " ('017XX N CLYBOURN AVE', 21),\n",
       " ('001XX E 83RD ST', 8),\n",
       " ('060XX S KEATING AVE', 12),\n",
       " ('064XX N LE MAI AVE', 1),\n",
       " ('020XX W SCHOOL ST', 6)]"
      ]
     },
     "execution_count": 36,
     "metadata": {},
     "output_type": "execute_result"
    }
   ],
   "source": [
    "#filter and subset to get data in recent 3 years 2013-2015\n",
    "filtered = fields2.filter(lambda x: x[1] == \"2013\" or  x[1] == \"2014\" or  x[1] == \"2015\")\n",
    "#filtered.take(10)\n",
    "#count each crime record row once\n",
    "pairs = filtered.map(lambda x: (x[0],1))  \n",
    "#pairs.take(10)\n",
    "#aggregate number of 1s or counts, group by key\n",
    "#counts[0] is block, counts[1] is num of crime\n",
    "counts = pairs.reduceByKey(lambda x,y: int(x) + int(y)) #count[0] is block, count[1] is num of crime\n",
    "counts.take(10)"
   ]
  },
  {
   "cell_type": "code",
   "execution_count": 43,
   "metadata": {
    "collapsed": false,
    "scrolled": true
   },
   "outputs": [
    {
     "data": {
      "text/plain": [
       "[(2004, '001XX N STATE ST'),\n",
       " (1720, '0000X W TERMINAL ST'),\n",
       " (1574, '008XX N MICHIGAN AVE'),\n",
       " (1390, '076XX S CICERO AVE'),\n",
       " (1143, '0000X N STATE ST'),\n",
       " (879, '040XX W LAKE ST'),\n",
       " (876, '008XX N STATE ST'),\n",
       " (874, '064XX S DR MARTIN LUTHER KING JR DR'),\n",
       " (771, '009XX W BELMONT AVE'),\n",
       " (756, '051XX W MADISON ST')]"
      ]
     },
     "execution_count": 43,
     "metadata": {},
     "output_type": "execute_result"
    }
   ],
   "source": [
    "#we now sort by number of crimes, so move number of crimes to position 0 to be the sort key\n",
    "top10 = counts.map(lambda x: (x[1], x[0])).sortByKey(ascending = False).take(10) #this is a py list\n",
    "#convert to RDD\n",
    "top10rdd =  sc.parallelize(top10)\n",
    "top10rdd.take(10)"
   ]
  }
 ],
 "metadata": {
  "anaconda-cloud": {},
  "kernelspec": {
   "display_name": "Python [conda root]",
   "language": "python",
   "name": "conda-root-py"
  },
  "language_info": {
   "codemirror_mode": {
    "name": "ipython",
    "version": 3
   },
   "file_extension": ".py",
   "mimetype": "text/x-python",
   "name": "python",
   "nbconvert_exporter": "python",
   "pygments_lexer": "ipython3",
   "version": "3.5.2"
  }
 },
 "nbformat": 4,
 "nbformat_minor": 1
}
